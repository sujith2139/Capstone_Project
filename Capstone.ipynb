{
 "cells": [
  {
   "cell_type": "markdown",
   "metadata": {},
   "source": [
    "# Project Name: Trip Pricing with Taxi Mobility Analytics"
   ]
  },
  {
   "cell_type": "markdown",
   "metadata": {},
   "source": [
    "The main aim of this project is to predict the SurgePricingType based on various features"
   ]
  },
  {
   "cell_type": "markdown",
   "metadata": {},
   "source": [
    "### Lifecycle in a Data Science Project"
   ]
  },
  {
   "cell_type": "markdown",
   "metadata": {},
   "source": [
    "1. Data Analysis\n",
    "2. Feature Engineering\n",
    "3. Feature Selection\n",
    "4. Model Building"
   ]
  },
  {
   "cell_type": "code",
   "execution_count": 2,
   "metadata": {},
   "outputs": [],
   "source": [
    "import numpy as np\n",
    "import pandas as pd\n",
    "import seaborn as sns\n",
    "import matplotlib.pyplot as plt\n",
    "%matplotlib inline\n",
    "import warnings\n",
    "warnings.filterwarnings(\"ignore\")\n",
    "pd.options.display.max_rows=None\n",
    "pd.options.display.max_columns=None"
   ]
  },
  {
   "cell_type": "code",
   "execution_count": 3,
   "metadata": {},
   "outputs": [],
   "source": [
    "# Reading the train dataset\n",
    "df_train = pd.read_csv(\"sigma_cabs.csv\")"
   ]
  },
  {
   "cell_type": "code",
   "execution_count": 4,
   "metadata": {},
   "outputs": [],
   "source": [
    "# Reading the train dataset\n",
    "df_test = pd.read_csv(\"test.csv\")"
   ]
  },
  {
   "cell_type": "code",
   "execution_count": 9,
   "metadata": {},
   "outputs": [
    {
     "name": "stdout",
     "output_type": "stream",
     "text": [
      "Train Dataset contain 131662 rows and 14 columns\n"
     ]
    }
   ],
   "source": [
    "# Get the number of rows and columns of the dataset\n",
    "print('Train Dataset contain {} rows and {} columns'.format(df_train.shape[0],df_train.shape[1]))"
   ]
  },
  {
   "cell_type": "code",
   "execution_count": 8,
   "metadata": {},
   "outputs": [
    {
     "name": "stdout",
     "output_type": "stream",
     "text": [
      "Test Dataset contain 87395 rows and 13 columns\n"
     ]
    }
   ],
   "source": [
    "# Get the number of rows and columns of the dataset\n",
    "print('Test Dataset contain {} rows and {} columns'.format(df_test.shape[0],df_test.shape[1]))"
   ]
  },
  {
   "cell_type": "markdown",
   "metadata": {},
   "source": [
    "### Features\n",
    "1. Trip_ID: ID for TRIP\n",
    "2. Trip_Distance: The distance for the trip requested by the customer\n",
    "3. TypeofCab: Category of the cab requested by the customer\n",
    "4. CustomerSinceMonths: Customer using cab services since n months; 0 month means current month\n",
    "5. LifeStyleIndex: Proprietary index created by Sigma Cabs showing lifestyle of the customer based on their behaviour\n",
    "6. ConfidenceLifeStyle_Index: Category showing confidence on the index mentioned above\n",
    "7. Destination_Type: Sigma Cabs divides any destination in one of the 14 categories.\n",
    "8. Customer_Rating: Average of life time ratings of the customer till date\n",
    "9. CancellationLast1Month: Number of trips cancelled by the customer in last 1 month\n",
    "10. Var1, Var2 and Var3: Continuous variables masked by the company. Can be used for modelling purposes\n",
    "11. Gender: Gender of the customer\n",
    "12. SurgePricingType: Target (can be of 3 types)"
   ]
  },
  {
   "cell_type": "code",
   "execution_count": 10,
   "metadata": {},
   "outputs": [
    {
     "data": {
      "text/html": [
       "<div>\n",
       "<style scoped>\n",
       "    .dataframe tbody tr th:only-of-type {\n",
       "        vertical-align: middle;\n",
       "    }\n",
       "\n",
       "    .dataframe tbody tr th {\n",
       "        vertical-align: top;\n",
       "    }\n",
       "\n",
       "    .dataframe thead th {\n",
       "        text-align: right;\n",
       "    }\n",
       "</style>\n",
       "<table border=\"1\" class=\"dataframe\">\n",
       "  <thead>\n",
       "    <tr style=\"text-align: right;\">\n",
       "      <th></th>\n",
       "      <th>Trip_ID</th>\n",
       "      <th>Trip_Distance</th>\n",
       "      <th>Type_of_Cab</th>\n",
       "      <th>Customer_Since_Months</th>\n",
       "      <th>Life_Style_Index</th>\n",
       "      <th>Confidence_Life_Style_Index</th>\n",
       "      <th>Destination_Type</th>\n",
       "      <th>Customer_Rating</th>\n",
       "      <th>Cancellation_Last_1Month</th>\n",
       "      <th>Var1</th>\n",
       "      <th>Var2</th>\n",
       "      <th>Var3</th>\n",
       "      <th>Gender</th>\n",
       "      <th>Surge_Pricing_Type</th>\n",
       "    </tr>\n",
       "  </thead>\n",
       "  <tbody>\n",
       "    <tr>\n",
       "      <th>0</th>\n",
       "      <td>T0005689460</td>\n",
       "      <td>6.77</td>\n",
       "      <td>B</td>\n",
       "      <td>1.0</td>\n",
       "      <td>2.42769</td>\n",
       "      <td>A</td>\n",
       "      <td>A</td>\n",
       "      <td>3.90500</td>\n",
       "      <td>0</td>\n",
       "      <td>40.0</td>\n",
       "      <td>46</td>\n",
       "      <td>60</td>\n",
       "      <td>Female</td>\n",
       "      <td>2</td>\n",
       "    </tr>\n",
       "    <tr>\n",
       "      <th>1</th>\n",
       "      <td>T0005689461</td>\n",
       "      <td>29.47</td>\n",
       "      <td>B</td>\n",
       "      <td>10.0</td>\n",
       "      <td>2.78245</td>\n",
       "      <td>B</td>\n",
       "      <td>A</td>\n",
       "      <td>3.45000</td>\n",
       "      <td>0</td>\n",
       "      <td>38.0</td>\n",
       "      <td>56</td>\n",
       "      <td>78</td>\n",
       "      <td>Male</td>\n",
       "      <td>2</td>\n",
       "    </tr>\n",
       "    <tr>\n",
       "      <th>2</th>\n",
       "      <td>T0005689464</td>\n",
       "      <td>41.58</td>\n",
       "      <td>NaN</td>\n",
       "      <td>10.0</td>\n",
       "      <td>NaN</td>\n",
       "      <td>NaN</td>\n",
       "      <td>E</td>\n",
       "      <td>3.50125</td>\n",
       "      <td>2</td>\n",
       "      <td>NaN</td>\n",
       "      <td>56</td>\n",
       "      <td>77</td>\n",
       "      <td>Male</td>\n",
       "      <td>2</td>\n",
       "    </tr>\n",
       "    <tr>\n",
       "      <th>3</th>\n",
       "      <td>T0005689465</td>\n",
       "      <td>61.56</td>\n",
       "      <td>C</td>\n",
       "      <td>10.0</td>\n",
       "      <td>NaN</td>\n",
       "      <td>NaN</td>\n",
       "      <td>A</td>\n",
       "      <td>3.45375</td>\n",
       "      <td>0</td>\n",
       "      <td>NaN</td>\n",
       "      <td>52</td>\n",
       "      <td>74</td>\n",
       "      <td>Male</td>\n",
       "      <td>3</td>\n",
       "    </tr>\n",
       "    <tr>\n",
       "      <th>4</th>\n",
       "      <td>T0005689467</td>\n",
       "      <td>54.95</td>\n",
       "      <td>C</td>\n",
       "      <td>10.0</td>\n",
       "      <td>3.03453</td>\n",
       "      <td>B</td>\n",
       "      <td>A</td>\n",
       "      <td>3.40250</td>\n",
       "      <td>4</td>\n",
       "      <td>51.0</td>\n",
       "      <td>49</td>\n",
       "      <td>102</td>\n",
       "      <td>Male</td>\n",
       "      <td>2</td>\n",
       "    </tr>\n",
       "  </tbody>\n",
       "</table>\n",
       "</div>"
      ],
      "text/plain": [
       "       Trip_ID  Trip_Distance Type_of_Cab  Customer_Since_Months  \\\n",
       "0  T0005689460           6.77           B                    1.0   \n",
       "1  T0005689461          29.47           B                   10.0   \n",
       "2  T0005689464          41.58         NaN                   10.0   \n",
       "3  T0005689465          61.56           C                   10.0   \n",
       "4  T0005689467          54.95           C                   10.0   \n",
       "\n",
       "   Life_Style_Index Confidence_Life_Style_Index Destination_Type  \\\n",
       "0           2.42769                           A                A   \n",
       "1           2.78245                           B                A   \n",
       "2               NaN                         NaN                E   \n",
       "3               NaN                         NaN                A   \n",
       "4           3.03453                           B                A   \n",
       "\n",
       "   Customer_Rating  Cancellation_Last_1Month  Var1  Var2  Var3  Gender  \\\n",
       "0          3.90500                         0  40.0    46    60  Female   \n",
       "1          3.45000                         0  38.0    56    78    Male   \n",
       "2          3.50125                         2   NaN    56    77    Male   \n",
       "3          3.45375                         0   NaN    52    74    Male   \n",
       "4          3.40250                         4  51.0    49   102    Male   \n",
       "\n",
       "   Surge_Pricing_Type  \n",
       "0                   2  \n",
       "1                   2  \n",
       "2                   2  \n",
       "3                   3  \n",
       "4                   2  "
      ]
     },
     "execution_count": 10,
     "metadata": {},
     "output_type": "execute_result"
    }
   ],
   "source": [
    "# displaying the top 5 rows in our train dataset\n",
    "df_train.head()"
   ]
  },
  {
   "cell_type": "code",
   "execution_count": 11,
   "metadata": {},
   "outputs": [
    {
     "data": {
      "text/html": [
       "<div>\n",
       "<style scoped>\n",
       "    .dataframe tbody tr th:only-of-type {\n",
       "        vertical-align: middle;\n",
       "    }\n",
       "\n",
       "    .dataframe tbody tr th {\n",
       "        vertical-align: top;\n",
       "    }\n",
       "\n",
       "    .dataframe thead th {\n",
       "        text-align: right;\n",
       "    }\n",
       "</style>\n",
       "<table border=\"1\" class=\"dataframe\">\n",
       "  <thead>\n",
       "    <tr style=\"text-align: right;\">\n",
       "      <th></th>\n",
       "      <th>Trip_ID</th>\n",
       "      <th>Trip_Distance</th>\n",
       "      <th>Type_of_Cab</th>\n",
       "      <th>Customer_Since_Months</th>\n",
       "      <th>Life_Style_Index</th>\n",
       "      <th>Confidence_Life_Style_Index</th>\n",
       "      <th>Destination_Type</th>\n",
       "      <th>Customer_Rating</th>\n",
       "      <th>Cancellation_Last_1Month</th>\n",
       "      <th>Var1</th>\n",
       "      <th>Var2</th>\n",
       "      <th>Var3</th>\n",
       "      <th>Gender</th>\n",
       "    </tr>\n",
       "  </thead>\n",
       "  <tbody>\n",
       "    <tr>\n",
       "      <th>0</th>\n",
       "      <td>T0005689459</td>\n",
       "      <td>9.44</td>\n",
       "      <td>A</td>\n",
       "      <td>10.0</td>\n",
       "      <td>2.57438</td>\n",
       "      <td>A</td>\n",
       "      <td>B</td>\n",
       "      <td>3.68000</td>\n",
       "      <td>2</td>\n",
       "      <td>NaN</td>\n",
       "      <td>46</td>\n",
       "      <td>63</td>\n",
       "      <td>Male</td>\n",
       "    </tr>\n",
       "    <tr>\n",
       "      <th>1</th>\n",
       "      <td>T0005689462</td>\n",
       "      <td>32.15</td>\n",
       "      <td>B</td>\n",
       "      <td>10.0</td>\n",
       "      <td>2.85143</td>\n",
       "      <td>A</td>\n",
       "      <td>A</td>\n",
       "      <td>1.59375</td>\n",
       "      <td>0</td>\n",
       "      <td>65.0</td>\n",
       "      <td>49</td>\n",
       "      <td>80</td>\n",
       "      <td>Female</td>\n",
       "    </tr>\n",
       "    <tr>\n",
       "      <th>2</th>\n",
       "      <td>T0005689463</td>\n",
       "      <td>10.38</td>\n",
       "      <td>C</td>\n",
       "      <td>4.0</td>\n",
       "      <td>2.70530</td>\n",
       "      <td>A</td>\n",
       "      <td>D</td>\n",
       "      <td>4.50500</td>\n",
       "      <td>0</td>\n",
       "      <td>NaN</td>\n",
       "      <td>47</td>\n",
       "      <td>74</td>\n",
       "      <td>Male</td>\n",
       "    </tr>\n",
       "    <tr>\n",
       "      <th>3</th>\n",
       "      <td>T0005689466</td>\n",
       "      <td>14.94</td>\n",
       "      <td>NaN</td>\n",
       "      <td>6.0</td>\n",
       "      <td>2.48159</td>\n",
       "      <td>C</td>\n",
       "      <td>E</td>\n",
       "      <td>4.53000</td>\n",
       "      <td>0</td>\n",
       "      <td>63.0</td>\n",
       "      <td>43</td>\n",
       "      <td>54</td>\n",
       "      <td>Male</td>\n",
       "    </tr>\n",
       "    <tr>\n",
       "      <th>4</th>\n",
       "      <td>T0005689468</td>\n",
       "      <td>32.03</td>\n",
       "      <td>B</td>\n",
       "      <td>7.0</td>\n",
       "      <td>2.81598</td>\n",
       "      <td>A</td>\n",
       "      <td>K</td>\n",
       "      <td>4.60125</td>\n",
       "      <td>3</td>\n",
       "      <td>96.0</td>\n",
       "      <td>44</td>\n",
       "      <td>56</td>\n",
       "      <td>Male</td>\n",
       "    </tr>\n",
       "  </tbody>\n",
       "</table>\n",
       "</div>"
      ],
      "text/plain": [
       "       Trip_ID  Trip_Distance Type_of_Cab  Customer_Since_Months  \\\n",
       "0  T0005689459           9.44           A                   10.0   \n",
       "1  T0005689462          32.15           B                   10.0   \n",
       "2  T0005689463          10.38           C                    4.0   \n",
       "3  T0005689466          14.94         NaN                    6.0   \n",
       "4  T0005689468          32.03           B                    7.0   \n",
       "\n",
       "   Life_Style_Index Confidence_Life_Style_Index Destination_Type  \\\n",
       "0           2.57438                           A                B   \n",
       "1           2.85143                           A                A   \n",
       "2           2.70530                           A                D   \n",
       "3           2.48159                           C                E   \n",
       "4           2.81598                           A                K   \n",
       "\n",
       "   Customer_Rating  Cancellation_Last_1Month  Var1  Var2  Var3  Gender  \n",
       "0          3.68000                         2   NaN    46    63    Male  \n",
       "1          1.59375                         0  65.0    49    80  Female  \n",
       "2          4.50500                         0   NaN    47    74    Male  \n",
       "3          4.53000                         0  63.0    43    54    Male  \n",
       "4          4.60125                         3  96.0    44    56    Male  "
      ]
     },
     "execution_count": 11,
     "metadata": {},
     "output_type": "execute_result"
    }
   ],
   "source": [
    "# displaying the top 5 rows in our test dataset\n",
    "df_test.head()"
   ]
  },
  {
   "cell_type": "code",
   "execution_count": 13,
   "metadata": {},
   "outputs": [
    {
     "name": "stdout",
     "output_type": "stream",
     "text": [
      "<class 'pandas.core.frame.DataFrame'>\n",
      "RangeIndex: 131662 entries, 0 to 131661\n",
      "Data columns (total 14 columns):\n",
      " #   Column                       Non-Null Count   Dtype  \n",
      "---  ------                       --------------   -----  \n",
      " 0   Trip_ID                      131662 non-null  object \n",
      " 1   Trip_Distance                131662 non-null  float64\n",
      " 2   Type_of_Cab                  111452 non-null  object \n",
      " 3   Customer_Since_Months        125742 non-null  float64\n",
      " 4   Life_Style_Index             111469 non-null  float64\n",
      " 5   Confidence_Life_Style_Index  111469 non-null  object \n",
      " 6   Destination_Type             131662 non-null  object \n",
      " 7   Customer_Rating              131662 non-null  float64\n",
      " 8   Cancellation_Last_1Month     131662 non-null  int64  \n",
      " 9   Var1                         60632 non-null   float64\n",
      " 10  Var2                         131662 non-null  int64  \n",
      " 11  Var3                         131662 non-null  int64  \n",
      " 12  Gender                       131662 non-null  object \n",
      " 13  Surge_Pricing_Type           131662 non-null  int64  \n",
      "dtypes: float64(5), int64(4), object(5)\n",
      "memory usage: 14.1+ MB\n"
     ]
    }
   ],
   "source": [
    "# Get the information of columns in train dataset\n",
    "df_train.info()"
   ]
  },
  {
   "cell_type": "code",
   "execution_count": 14,
   "metadata": {},
   "outputs": [
    {
     "name": "stdout",
     "output_type": "stream",
     "text": [
      "<class 'pandas.core.frame.DataFrame'>\n",
      "RangeIndex: 87395 entries, 0 to 87394\n",
      "Data columns (total 13 columns):\n",
      " #   Column                       Non-Null Count  Dtype  \n",
      "---  ------                       --------------  -----  \n",
      " 0   Trip_ID                      87395 non-null  object \n",
      " 1   Trip_Distance                87395 non-null  float64\n",
      " 2   Type_of_Cab                  74237 non-null  object \n",
      " 3   Customer_Since_Months        83429 non-null  float64\n",
      " 4   Life_Style_Index             74068 non-null  float64\n",
      " 5   Confidence_Life_Style_Index  74068 non-null  object \n",
      " 6   Destination_Type             87395 non-null  object \n",
      " 7   Customer_Rating              87395 non-null  float64\n",
      " 8   Cancellation_Last_1Month     87395 non-null  int64  \n",
      " 9   Var1                         40606 non-null  float64\n",
      " 10  Var2                         87395 non-null  int64  \n",
      " 11  Var3                         87395 non-null  int64  \n",
      " 12  Gender                       87395 non-null  object \n",
      "dtypes: float64(5), int64(3), object(5)\n",
      "memory usage: 8.7+ MB\n"
     ]
    }
   ],
   "source": [
    "# Get the information of columns in test dataset\n",
    "df_test.info()"
   ]
  },
  {
   "cell_type": "markdown",
   "metadata": {},
   "source": [
    "Inference\n",
    "- Here we can see the some columns have missing values.\n",
    "- Here Customer_Since_Months datatype will change into Int as the month will not be in float."
   ]
  },
  {
   "cell_type": "markdown",
   "metadata": {},
   "source": [
    "## Data Analysis"
   ]
  },
  {
   "cell_type": "markdown",
   "metadata": {},
   "source": [
    "### Treating the missing values"
   ]
  },
  {
   "cell_type": "markdown",
   "metadata": {},
   "source": [
    "##### Handling Missing values\n",
    "     1. Continuous\n",
    "      - Between 00% to 10% ----> impute with mean or median.\n",
    "      - Between 10% to 60% ----> impute with bfill or ffill or predictive approach.\n",
    "      - Between 60% to 90% ----> Create Dummy\n",
    "      - Between 90% to 100% ---> Drop\n",
    "     2. Categorical\n",
    "      - Between 00% to 10% ----> impute with Mode\n",
    "      - Between 10% to 60% ----> Create New Category \"NA\"\n",
    "      - Between 60% to 90% ----> Create New Category \"NA\" or Drop \n",
    "      - Between 90% to 100% ---> Drop\n",
    "      \n",
    "      * Not very critical for advanced algorithms "
   ]
  },
  {
   "cell_type": "code",
   "execution_count": 15,
   "metadata": {},
   "outputs": [],
   "source": [
    "## Combining the Dataset\n",
    "df_test[\"Surge_Pricing_Type\"] = np.nan\n",
    "df_train[\"data\"] = \"train\"\n",
    "df_test[\"data\"] = \"test\"\n",
    "df_test = df_test[df_train.columns]\n",
    "df_all = pd.concat([df_train,df_test],axis=0)"
   ]
  },
  {
   "cell_type": "code",
   "execution_count": 16,
   "metadata": {},
   "outputs": [
    {
     "data": {
      "text/html": [
       "<div>\n",
       "<style scoped>\n",
       "    .dataframe tbody tr th:only-of-type {\n",
       "        vertical-align: middle;\n",
       "    }\n",
       "\n",
       "    .dataframe tbody tr th {\n",
       "        vertical-align: top;\n",
       "    }\n",
       "\n",
       "    .dataframe thead th {\n",
       "        text-align: right;\n",
       "    }\n",
       "</style>\n",
       "<table border=\"1\" class=\"dataframe\">\n",
       "  <thead>\n",
       "    <tr style=\"text-align: right;\">\n",
       "      <th></th>\n",
       "      <th>Trip_ID</th>\n",
       "      <th>Trip_Distance</th>\n",
       "      <th>Type_of_Cab</th>\n",
       "      <th>Customer_Since_Months</th>\n",
       "      <th>Life_Style_Index</th>\n",
       "      <th>Confidence_Life_Style_Index</th>\n",
       "      <th>Destination_Type</th>\n",
       "      <th>Customer_Rating</th>\n",
       "      <th>Cancellation_Last_1Month</th>\n",
       "      <th>Var1</th>\n",
       "      <th>Var2</th>\n",
       "      <th>Var3</th>\n",
       "      <th>Gender</th>\n",
       "      <th>Surge_Pricing_Type</th>\n",
       "      <th>data</th>\n",
       "    </tr>\n",
       "  </thead>\n",
       "  <tbody>\n",
       "    <tr>\n",
       "      <th>0</th>\n",
       "      <td>T0005689460</td>\n",
       "      <td>6.77</td>\n",
       "      <td>B</td>\n",
       "      <td>1.0</td>\n",
       "      <td>2.42769</td>\n",
       "      <td>A</td>\n",
       "      <td>A</td>\n",
       "      <td>3.90500</td>\n",
       "      <td>0</td>\n",
       "      <td>40.0</td>\n",
       "      <td>46</td>\n",
       "      <td>60</td>\n",
       "      <td>Female</td>\n",
       "      <td>2.0</td>\n",
       "      <td>train</td>\n",
       "    </tr>\n",
       "    <tr>\n",
       "      <th>1</th>\n",
       "      <td>T0005689461</td>\n",
       "      <td>29.47</td>\n",
       "      <td>B</td>\n",
       "      <td>10.0</td>\n",
       "      <td>2.78245</td>\n",
       "      <td>B</td>\n",
       "      <td>A</td>\n",
       "      <td>3.45000</td>\n",
       "      <td>0</td>\n",
       "      <td>38.0</td>\n",
       "      <td>56</td>\n",
       "      <td>78</td>\n",
       "      <td>Male</td>\n",
       "      <td>2.0</td>\n",
       "      <td>train</td>\n",
       "    </tr>\n",
       "    <tr>\n",
       "      <th>2</th>\n",
       "      <td>T0005689464</td>\n",
       "      <td>41.58</td>\n",
       "      <td>NaN</td>\n",
       "      <td>10.0</td>\n",
       "      <td>NaN</td>\n",
       "      <td>NaN</td>\n",
       "      <td>E</td>\n",
       "      <td>3.50125</td>\n",
       "      <td>2</td>\n",
       "      <td>NaN</td>\n",
       "      <td>56</td>\n",
       "      <td>77</td>\n",
       "      <td>Male</td>\n",
       "      <td>2.0</td>\n",
       "      <td>train</td>\n",
       "    </tr>\n",
       "    <tr>\n",
       "      <th>3</th>\n",
       "      <td>T0005689465</td>\n",
       "      <td>61.56</td>\n",
       "      <td>C</td>\n",
       "      <td>10.0</td>\n",
       "      <td>NaN</td>\n",
       "      <td>NaN</td>\n",
       "      <td>A</td>\n",
       "      <td>3.45375</td>\n",
       "      <td>0</td>\n",
       "      <td>NaN</td>\n",
       "      <td>52</td>\n",
       "      <td>74</td>\n",
       "      <td>Male</td>\n",
       "      <td>3.0</td>\n",
       "      <td>train</td>\n",
       "    </tr>\n",
       "    <tr>\n",
       "      <th>4</th>\n",
       "      <td>T0005689467</td>\n",
       "      <td>54.95</td>\n",
       "      <td>C</td>\n",
       "      <td>10.0</td>\n",
       "      <td>3.03453</td>\n",
       "      <td>B</td>\n",
       "      <td>A</td>\n",
       "      <td>3.40250</td>\n",
       "      <td>4</td>\n",
       "      <td>51.0</td>\n",
       "      <td>49</td>\n",
       "      <td>102</td>\n",
       "      <td>Male</td>\n",
       "      <td>2.0</td>\n",
       "      <td>train</td>\n",
       "    </tr>\n",
       "  </tbody>\n",
       "</table>\n",
       "</div>"
      ],
      "text/plain": [
       "       Trip_ID  Trip_Distance Type_of_Cab  Customer_Since_Months  \\\n",
       "0  T0005689460           6.77           B                    1.0   \n",
       "1  T0005689461          29.47           B                   10.0   \n",
       "2  T0005689464          41.58         NaN                   10.0   \n",
       "3  T0005689465          61.56           C                   10.0   \n",
       "4  T0005689467          54.95           C                   10.0   \n",
       "\n",
       "   Life_Style_Index Confidence_Life_Style_Index Destination_Type  \\\n",
       "0           2.42769                           A                A   \n",
       "1           2.78245                           B                A   \n",
       "2               NaN                         NaN                E   \n",
       "3               NaN                         NaN                A   \n",
       "4           3.03453                           B                A   \n",
       "\n",
       "   Customer_Rating  Cancellation_Last_1Month  Var1  Var2  Var3  Gender  \\\n",
       "0          3.90500                         0  40.0    46    60  Female   \n",
       "1          3.45000                         0  38.0    56    78    Male   \n",
       "2          3.50125                         2   NaN    56    77    Male   \n",
       "3          3.45375                         0   NaN    52    74    Male   \n",
       "4          3.40250                         4  51.0    49   102    Male   \n",
       "\n",
       "   Surge_Pricing_Type   data  \n",
       "0                 2.0  train  \n",
       "1                 2.0  train  \n",
       "2                 2.0  train  \n",
       "3                 3.0  train  \n",
       "4                 2.0  train  "
      ]
     },
     "execution_count": 16,
     "metadata": {},
     "output_type": "execute_result"
    }
   ],
   "source": [
    "## Displaying the top 5 rows in combined dataset\n",
    "df_all.head()"
   ]
  },
  {
   "cell_type": "code",
   "execution_count": 17,
   "metadata": {},
   "outputs": [
    {
     "data": {
      "text/plain": [
       "Trip_ID                             0\n",
       "Trip_Distance                       0\n",
       "Type_of_Cab                     33368\n",
       "Customer_Since_Months            9886\n",
       "Life_Style_Index                33520\n",
       "Confidence_Life_Style_Index     33520\n",
       "Destination_Type                    0\n",
       "Customer_Rating                     0\n",
       "Cancellation_Last_1Month            0\n",
       "Var1                           117819\n",
       "Var2                                0\n",
       "Var3                                0\n",
       "Gender                              0\n",
       "Surge_Pricing_Type              87395\n",
       "data                                0\n",
       "dtype: int64"
      ]
     },
     "execution_count": 17,
     "metadata": {},
     "output_type": "execute_result"
    }
   ],
   "source": [
    "# Get the Null Values\n",
    "df_all.isnull().sum()"
   ]
  },
  {
   "cell_type": "code",
   "execution_count": 19,
   "metadata": {},
   "outputs": [
    {
     "data": {
      "text/plain": [
       "Trip_ID                         0.000000\n",
       "Trip_Distance                   0.000000\n",
       "Type_of_Cab                    15.232565\n",
       "Customer_Since_Months           4.512981\n",
       "Life_Style_Index               15.301953\n",
       "Confidence_Life_Style_Index    15.301953\n",
       "Destination_Type                0.000000\n",
       "Customer_Rating                 0.000000\n",
       "Cancellation_Last_1Month        0.000000\n",
       "Var1                           53.784631\n",
       "Var2                            0.000000\n",
       "Var3                            0.000000\n",
       "Gender                          0.000000\n",
       "Surge_Pricing_Type             39.896009\n",
       "data                            0.000000\n",
       "dtype: float64"
      ]
     },
     "execution_count": 19,
     "metadata": {},
     "output_type": "execute_result"
    }
   ],
   "source": [
    "# Get the Null Values percentage\n",
    "df_all.isnull().sum()/df_all.shape[0]*100"
   ]
  },
  {
   "cell_type": "code",
   "execution_count": 20,
   "metadata": {},
   "outputs": [],
   "source": [
    "## Type_of_Cab\n",
    "## Filling with New Variable\n",
    "df_all[\"Type_of_Cab\"].fillna(\"F\",inplace=True)"
   ]
  },
  {
   "cell_type": "code",
   "execution_count": 21,
   "metadata": {},
   "outputs": [],
   "source": [
    "## Confidence_Life_Style_Index\n",
    "## Filling with New Variable\n",
    "df_all[\"Confidence_Life_Style_Index\"].fillna(\"D\",inplace=True)"
   ]
  },
  {
   "cell_type": "code",
   "execution_count": 22,
   "metadata": {},
   "outputs": [],
   "source": [
    "## Customer_Since_Months\n",
    "## Filling with Mode\n",
    "df_all[\"Customer_Since_Months\"].fillna(df_all[\"Customer_Since_Months\"].mode()[0],inplace=True)\n",
    "df_all[\"Customer_Since_Months\"] = df_all[\"Customer_Since_Months\"].astype(int)"
   ]
  },
  {
   "cell_type": "code",
   "execution_count": 23,
   "metadata": {},
   "outputs": [],
   "source": [
    "## Life_Style_Index\n",
    "## Filling with Mean(train dataset)\n",
    "cols = [\"Life_Style_Index\"]\n",
    "for col in cols:\n",
    "    if (col not in ['Surge_Pricing_Type','data']) & (df_all[col].isnull().sum()>0):\n",
    "        df_all.loc[df_all[col].isnull(),col]=df_all.loc[df_all['data']=='train',col].mean()"
   ]
  },
  {
   "cell_type": "code",
   "execution_count": 24,
   "metadata": {},
   "outputs": [],
   "source": [
    "## Var1\n",
    "## Dropping the Variable 1\n",
    "df_all = df_all.drop(\"Var1\",axis=1)"
   ]
  },
  {
   "cell_type": "code",
   "execution_count": 25,
   "metadata": {},
   "outputs": [
    {
     "data": {
      "text/plain": [
       "Trip_ID                            0\n",
       "Trip_Distance                      0\n",
       "Type_of_Cab                        0\n",
       "Customer_Since_Months              0\n",
       "Life_Style_Index                   0\n",
       "Confidence_Life_Style_Index        0\n",
       "Destination_Type                   0\n",
       "Customer_Rating                    0\n",
       "Cancellation_Last_1Month           0\n",
       "Var2                               0\n",
       "Var3                               0\n",
       "Gender                             0\n",
       "Surge_Pricing_Type             87395\n",
       "data                               0\n",
       "dtype: int64"
      ]
     },
     "execution_count": 25,
     "metadata": {},
     "output_type": "execute_result"
    }
   ],
   "source": [
    "df_all.isnull().sum()"
   ]
  },
  {
   "cell_type": "markdown",
   "metadata": {},
   "source": [
    "### Univariate Analysis"
   ]
  },
  {
   "cell_type": "markdown",
   "metadata": {},
   "source": [
    "##### Categorical Features"
   ]
  },
  {
   "cell_type": "code",
   "execution_count": 28,
   "metadata": {},
   "outputs": [
    {
     "data": {
      "image/png": "[encoded data removed]",
      "text/plain": [
       "<Figure size 864x576 with 4 Axes>"
      ]
     },
     "metadata": {
      "needs_background": "light"
     },
     "output_type": "display_data"
    }
   ],
   "source": [
    "cat_cols = ['Type_of_Cab', 'Confidence_Life_Style_Index','Destination_Type', 'Gender']\n",
    "fig,axes = plt.subplots(2,2,figsize=(12,8))\n",
    "for idx,cat_col in enumerate(cat_cols):\n",
    "    row,col = idx//2,idx%2\n",
    "    sns.countplot(x=cat_col,data=df_train,ax=axes[row,col])\n",
    "plt.subplots_adjust(wspace=0.5,hspace=0.5)"
   ]
  },
  {
   "cell_type": "markdown",
   "metadata": {},
   "source": [
    "##### Inference\n",
    "1. Type_of_Cab\n",
    "   - Cab type \"B\" is most used or requested by passengers (customers) followed by \"C\",\"A\",\"F\",\"D\" and \"E\".\n",
    "2. Confidence_Life_Style_Index\n",
    "   - \"B\" type of the Customers are having a good behaviour and confidence with Cab drivers followed by \"C\",\"A\" and \"D\"\n",
    "3. Destination_Type\n",
    "   - As destination_type is divided into 14 parts, In that type \"A\" destintion count is more followed by \"B\",\"C\",\"D\",\"E\",\"F\",\"G\",\"H\",\"I\",\"J\",\"L\",\"M\" and \"N\".\n",
    "4. Gender\n",
    "   - Cabs used by Male passengers are most than Female."
   ]
  },
  {
   "cell_type": "markdown",
   "metadata": {},
   "source": [
    "##### Discrete Features"
   ]
  },
  {
   "cell_type": "code",
   "execution_count": 32,
   "metadata": {},
   "outputs": [
    {
     "data": {
      "image/png": "[encoded data removed]",
      "text/plain": [
       "<Figure size 1296x360 with 3 Axes>"
      ]
     },
     "metadata": {
      "needs_background": "light"
     },
     "output_type": "display_data"
    }
   ],
   "source": [
    "dis_cols = ['Customer_Since_Months', 'Cancellation_Last_1Month', 'Surge_Pricing_Type']\n",
    "fig,axes=plt.subplots(1,3,figsize=(18,5))\n",
    "sns.countplot(df_train[\"Customer_Since_Months\"],ax=axes[0])\n",
    "sns.countplot(df_train[\"Cancellation_Last_1Month\"],ax=axes[1])\n",
    "sns.countplot(df_train[\"Surge_Pricing_Type\"],ax=axes[2])\n",
    "plt.show()"
   ]
  },
  {
   "cell_type": "markdown",
   "metadata": {},
   "source": [
    "##### Inference\n",
    "1. Customer_Since_Months\n",
    "    - Customer using cab services since 10 months are more than other months.\n",
    "2. Cancellation_Last_1Month\n",
    "    - The customers didn't cancelled their trips as there are less cancellation since last 1 month.\n",
    "3. Surge_Pricing_Type\n",
    "    - Pricing Type \"2\" has most count followed by \"3\" and \"1\"."
   ]
  },
  {
   "cell_type": "markdown",
   "metadata": {},
   "source": [
    "##### Numerical Features"
   ]
  },
  {
   "cell_type": "code",
   "execution_count": 34,
   "metadata": {},
   "outputs": [
    {
     "data": {
      "image/png": "[encoded data removed]",
      "text/plain": [
       "<Figure size 432x288 with 1 Axes>"
      ]
     },
     "metadata": {
      "needs_background": "light"
     },
     "output_type": "display_data"
    }
   ],
   "source": [
    "sns.distplot(df_train[\"Trip_Distance\"])\n",
    "plt.axvline(df_train[\"Trip_Distance\"].mean(),color=\"r\")\n",
    "plt.axvline(df_train[\"Trip_Distance\"].median(),color=\"g\")\n",
    "plt.show()"
   ]
  },
  {
   "cell_type": "markdown",
   "metadata": {},
   "source": [
    "##### Inference\n",
    "- Most of the passengers has travelled a distance between 25 to 35.\n",
    "- The Average distance travelled by the passenger is 45."
   ]
  },
  {
   "cell_type": "code",
   "execution_count": 35,
   "metadata": {},
   "outputs": [
    {
     "data": {
      "image/png": "[encoded data removed]",
      "text/plain": [
       "<Figure size 432x288 with 1 Axes>"
      ]
     },
     "metadata": {
      "needs_background": "light"
     },
     "output_type": "display_data"
    }
   ],
   "source": [
    "sns.distplot(df_train[\"Life_Style_Index\"])\n",
    "plt.axvline(df_train[\"Life_Style_Index\"].mean(),color=\"r\")\n",
    "plt.show()"
   ]
  },
  {
   "cell_type": "markdown",
   "metadata": {},
   "source": [
    "##### Inference\n",
    "- The mean of lifestyle of the customer based on their behaviour is around 2.8"
   ]
  },
  {
   "cell_type": "code",
   "execution_count": 36,
   "metadata": {},
   "outputs": [
    {
     "data": {
      "image/png": "[encoded data removed]",
      "text/plain": [
       "<Figure size 432x288 with 1 Axes>"
      ]
     },
     "metadata": {
      "needs_background": "light"
     },
     "output_type": "display_data"
    }
   ],
   "source": [
    "sns.distplot(df_train[\"Customer_Rating\"])\n",
    "plt.axvline(df_train[\"Customer_Rating\"].mean(),color=\"r\")\n",
    "plt.show()"
   ]
  },
  {
   "cell_type": "markdown",
   "metadata": {},
   "source": [
    "##### Inference\n",
    "- Most of the customers gave rating between 2.5 and 3.5\n",
    "- Average of life time ratings of the customer till date is around 2.8\n",
    "- The distribution is somewhat left skewed."
   ]
  },
  {
   "cell_type": "code",
   "execution_count": 39,
   "metadata": {},
   "outputs": [
    {
     "data": {
      "image/png": "[encoded data removed]",
      "text/plain": [
       "<Figure size 1080x360 with 2 Axes>"
      ]
     },
     "metadata": {
      "needs_background": "light"
     },
     "output_type": "display_data"
    }
   ],
   "source": [
    "fig,axes=plt.subplots(1,2,figsize=(15,5))\n",
    "sns.distplot(df_train[\"Var2\"],ax=axes[0])\n",
    "sns.distplot(df_train[\"Var3\"],ax=axes[1])\n",
    "plt.show()"
   ]
  },
  {
   "cell_type": "markdown",
   "metadata": {},
   "source": [
    "##### Inference\n",
    "Var2 and Var3 distributions are Rightly skewed.\n",
    "1. Var2\n",
    "   - Most of the data lies in between around 45 to 55.\n",
    "2. Var3\n",
    "   - Most of the data lies in between around 60 to 80."
   ]
  },
  {
   "cell_type": "markdown",
   "metadata": {},
   "source": [
    "### Bivariate Analysis"
   ]
  },
  {
   "cell_type": "markdown",
   "metadata": {},
   "source": [
    "##### Categorical Features"
   ]
  },
  {
   "cell_type": "code",
   "execution_count": 40,
   "metadata": {},
   "outputs": [
    {
     "data": {
      "image/png": "[encoded data removed]",
      "text/plain": [
       "<Figure size 864x576 with 4 Axes>"
      ]
     },
     "metadata": {
      "needs_background": "light"
     },
     "output_type": "display_data"
    }
   ],
   "source": [
    "cat_cols = ['Type_of_Cab', 'Confidence_Life_Style_Index','Destination_Type', 'Gender']\n",
    "fig,axes = plt.subplots(2,2,figsize=(12,8))\n",
    "for idx,cat_col in enumerate(cat_cols):\n",
    "    row,col = idx//2,idx%2\n",
    "    sns.countplot(x=cat_col,data=df_train,hue=df_train[\"Surge_Pricing_Type\"],ax=axes[row,col])\n",
    "plt.subplots_adjust(wspace=0.5,hspace=0.5)"
   ]
  },
  {
   "cell_type": "markdown",
   "metadata": {},
   "source": [
    "##### Inference\n",
    "1. Type of Cab\n",
    "   - If we took Cab type \"B\" then almost pricing type will be \"2\" followed by \"1\" and \"3\".\n",
    "   - If we took Cab type \"C\" then almost pricing type will be \"2\" followed by \"3\" and very less is \"1\"\n",
    "   - If we took Cab type \"F\" then almost pricing type will be \"2\" followed by \"3\" and \"1\"\n",
    "   - If we took Cab type \"E\" then almost pricing type will be \"3\" and very less is \"2\" and \"1\"\n",
    "   - If we took Cab type \"D\" then almost pricing type will be \"3\" and very less is \"2\" and \"1\"\n",
    "   - If we took Cab type \"D\" then almost pricing type will be \"1\" and less is \"3\" and very less is \"2\"\n",
    "2. Confidence life style index\n",
    "   - If the Confidence_Life_Style_Index \"A\" then almost pricing type will be \"2\" followed by \"1\" and \"3\".\n",
    "   - If the Confidence_Life_Style_Index \"B\" then almost pricing type will be \"3\" followed by \"2\" and \"1\".\n",
    "   - If the Confidence_Life_Style_Index \"D\" then almost pricing type will be \"2\" followed by \"3\" and \"1\".\n",
    "   - If the Confidence_Life_Style_Index \"C\" then almost pricing type will be \"2\" followed by \"3\" and \"1\".\n",
    "3. Destination_Type\n",
    "   - The Destination_type \"A\" and \"B\" are mostly used by the customers.\n",
    "   - In \"A\" type the pricing type is almost \"2\" followed by \"3\" and \"1\".\n",
    "   - In \"B\" type the pricing type is almost \"2\" followed by \"1\" and \"3\".\n",
    "   - In \"D\" type the pricing type is almost \"3\" followed by \"2\" and \"1\".\n",
    "   - In \"C\" type the pricing type is almost \"2\" followed by \"1\" and \"3\".\n",
    "   - In \"E\" type the pricing type is almost equal.\n",
    "4. Gender\n",
    "   - The Male customers are more than Female.\n",
    "   - If the customer is Male then the pricing type is \"2\" followed by \"3\" and \"1\".\n",
    "   - If the customer is Female then the pricing type is \"2\" followed by \"3\" and \"1\"."
   ]
  },
  {
   "cell_type": "code",
   "execution_count": 41,
   "metadata": {},
   "outputs": [
    {
     "data": {
      "image/png": "[encoded data removed]",
      "text/plain": [
       "<Figure size 1296x360 with 2 Axes>"
      ]
     },
     "metadata": {
      "needs_background": "light"
     },
     "output_type": "display_data"
    }
   ],
   "source": [
    "fig,axes=plt.subplots(1,2,figsize=(18,5))\n",
    "sns.countplot(df_train[\"Customer_Since_Months\"],hue=df_train[\"Surge_Pricing_Type\"],ax=axes[0])\n",
    "sns.countplot(df_train[\"Cancellation_Last_1Month\"],hue=df_train[\"Surge_Pricing_Type\"],ax=axes[1])\n",
    "plt.show()"
   ]
  },
  {
   "cell_type": "markdown",
   "metadata": {},
   "source": [
    "##### Inference\n",
    "1. Customer_Since_Months\n",
    "   - The customers are using the cabs from the last 10 months are more.\n",
    "   - Most of the times the pricing type is \"2\" followed by \"3\" and \"1\".\n",
    "2. Cancellation_Last_1Month\n",
    "   - Most of the times the pricing type is \"2\" followed by the \"3\" and \"1\".\n",
    "   - If the cancellation trips are more than \"1\" the pricing type will be \"3\" followed by \"2\" and \"1\"."
   ]
  },
  {
   "cell_type": "code",
   "execution_count": 42,
   "metadata": {},
   "outputs": [
    {
     "data": {
      "image/png": "[encoded data removed]",
      "text/plain": [
       "<Figure size 432x288 with 1 Axes>"
      ]
     },
     "metadata": {
      "needs_background": "light"
     },
     "output_type": "display_data"
    }
   ],
   "source": [
    "sns.barplot(df_train[\"Destination_Type\"],df_train[\"Customer_Rating\"])\n",
    "plt.show()"
   ]
  },
  {
   "cell_type": "markdown",
   "metadata": {},
   "source": [
    "##### Inference\n",
    "- The customer rating is high for Destination_Type \"N\" compared to other destination type, followed by \"G\" and other destination types."
   ]
  },
  {
   "cell_type": "code",
   "execution_count": 43,
   "metadata": {},
   "outputs": [
    {
     "data": {
      "image/png": "[encoded data removed]",
      "text/plain": [
       "<Figure size 432x288 with 1 Axes>"
      ]
     },
     "metadata": {
      "needs_background": "light"
     },
     "output_type": "display_data"
    }
   ],
   "source": [
    "sns.barplot(df_train[\"Type_of_Cab\"],df_train[\"Trip_Distance\"])\n",
    "plt.show()"
   ]
  },
  {
   "cell_type": "markdown",
   "metadata": {},
   "source": [
    "##### Inference\n",
    "- Customers travelled more on \"E\" cab type which is almost 50."
   ]
  },
  {
   "cell_type": "markdown",
   "metadata": {},
   "source": [
    "##### Numerical Features "
   ]
  },
  {
   "cell_type": "code",
   "execution_count": 44,
   "metadata": {},
   "outputs": [
    {
     "data": {
      "text/plain": [
       "Index(['Trip_Distance', 'Customer_Since_Months', 'Life_Style_Index',\n",
       "       'Customer_Rating', 'Cancellation_Last_1Month', 'Var2', 'Var3',\n",
       "       'Surge_Pricing_Type'],\n",
       "      dtype='object')"
      ]
     },
     "execution_count": 44,
     "metadata": {},
     "output_type": "execute_result"
    }
   ],
   "source": [
    "num_cols = df_train.select_dtypes(include=\"number\")\n",
    "num_cols.columns"
   ]
  },
  {
   "cell_type": "code",
   "execution_count": 45,
   "metadata": {},
   "outputs": [
    {
     "data": {
      "image/png": "[encoded data removed]",
      "text/plain": [
       "<Figure size 864x576 with 9 Axes>"
      ]
     },
     "metadata": {
      "needs_background": "light"
     },
     "output_type": "display_data"
    }
   ],
   "source": [
    "fig,axes = plt.subplots(3,3,figsize=(12,8))\n",
    "for idx,num_col in enumerate(num_cols):\n",
    "    row,col = idx//3,idx%3\n",
    "    sns.boxplot(y=num_col,data=df_train,x=df_train[\"Surge_Pricing_Type\"],ax=axes[row,col])\n",
    "plt.subplots_adjust(wspace=0.5,hspace=0.5)"
   ]
  },
  {
   "cell_type": "markdown",
   "metadata": {},
   "source": [
    "##### Inference\n",
    "1. Trip_Distance\n",
    "   - If the Trip_Distance median is around 35 then the pricing type will be \"2\" or \"1\"\n",
    "   - If the Trip_Distance median is around 45 then the pricing type will be \"3\"\n",
    "2. Life_Style_Index\n",
    "   - If the Life_Style_Index median is around 2.8 then the pricing type will be \"1\" or \"2\" or \"3\"\n",
    "3. Customer_Rating\n",
    "   - If the Customer_Rating is above \"3\" then the princing type will be \"1\"\n",
    "   - If the Customer_Rating is close to \"3\" then the princing type will be \"2\" or \"1\"."
   ]
  },
  {
   "cell_type": "markdown",
   "metadata": {},
   "source": [
    "### Descriptive Statistics"
   ]
  },
  {
   "cell_type": "code",
   "execution_count": 46,
   "metadata": {},
   "outputs": [
    {
     "data": {
      "text/html": [
       "<div>\n",
       "<style scoped>\n",
       "    .dataframe tbody tr th:only-of-type {\n",
       "        vertical-align: middle;\n",
       "    }\n",
       "\n",
       "    .dataframe tbody tr th {\n",
       "        vertical-align: top;\n",
       "    }\n",
       "\n",
       "    .dataframe thead th {\n",
       "        text-align: right;\n",
       "    }\n",
       "</style>\n",
       "<table border=\"1\" class=\"dataframe\">\n",
       "  <thead>\n",
       "    <tr style=\"text-align: right;\">\n",
       "      <th></th>\n",
       "      <th>Trip_Distance</th>\n",
       "      <th>Customer_Since_Months</th>\n",
       "      <th>Life_Style_Index</th>\n",
       "      <th>Customer_Rating</th>\n",
       "      <th>Cancellation_Last_1Month</th>\n",
       "      <th>Var2</th>\n",
       "      <th>Var3</th>\n",
       "      <th>Surge_Pricing_Type</th>\n",
       "    </tr>\n",
       "  </thead>\n",
       "  <tbody>\n",
       "    <tr>\n",
       "      <th>count</th>\n",
       "      <td>131662.000000</td>\n",
       "      <td>131662.000000</td>\n",
       "      <td>131662.000000</td>\n",
       "      <td>131662.000000</td>\n",
       "      <td>131662.000000</td>\n",
       "      <td>131662.000000</td>\n",
       "      <td>131662.000000</td>\n",
       "      <td>131662.000000</td>\n",
       "    </tr>\n",
       "    <tr>\n",
       "      <th>mean</th>\n",
       "      <td>44.200909</td>\n",
       "      <td>6.195766</td>\n",
       "      <td>2.802064</td>\n",
       "      <td>2.849458</td>\n",
       "      <td>0.782838</td>\n",
       "      <td>51.202800</td>\n",
       "      <td>75.099019</td>\n",
       "      <td>2.155747</td>\n",
       "    </tr>\n",
       "    <tr>\n",
       "      <th>std</th>\n",
       "      <td>25.522882</td>\n",
       "      <td>3.639259</td>\n",
       "      <td>0.207760</td>\n",
       "      <td>0.980675</td>\n",
       "      <td>1.037559</td>\n",
       "      <td>4.986142</td>\n",
       "      <td>11.578278</td>\n",
       "      <td>0.738164</td>\n",
       "    </tr>\n",
       "    <tr>\n",
       "      <th>min</th>\n",
       "      <td>0.310000</td>\n",
       "      <td>0.000000</td>\n",
       "      <td>1.596380</td>\n",
       "      <td>0.001250</td>\n",
       "      <td>0.000000</td>\n",
       "      <td>40.000000</td>\n",
       "      <td>52.000000</td>\n",
       "      <td>1.000000</td>\n",
       "    </tr>\n",
       "    <tr>\n",
       "      <th>25%</th>\n",
       "      <td>24.580000</td>\n",
       "      <td>3.000000</td>\n",
       "      <td>2.687952</td>\n",
       "      <td>2.152500</td>\n",
       "      <td>0.000000</td>\n",
       "      <td>48.000000</td>\n",
       "      <td>67.000000</td>\n",
       "      <td>2.000000</td>\n",
       "    </tr>\n",
       "    <tr>\n",
       "      <th>50%</th>\n",
       "      <td>38.200000</td>\n",
       "      <td>7.000000</td>\n",
       "      <td>2.802064</td>\n",
       "      <td>2.895000</td>\n",
       "      <td>0.000000</td>\n",
       "      <td>50.000000</td>\n",
       "      <td>74.000000</td>\n",
       "      <td>2.000000</td>\n",
       "    </tr>\n",
       "    <tr>\n",
       "      <th>75%</th>\n",
       "      <td>60.730000</td>\n",
       "      <td>10.000000</td>\n",
       "      <td>2.912815</td>\n",
       "      <td>3.582500</td>\n",
       "      <td>1.000000</td>\n",
       "      <td>54.000000</td>\n",
       "      <td>82.000000</td>\n",
       "      <td>3.000000</td>\n",
       "    </tr>\n",
       "    <tr>\n",
       "      <th>max</th>\n",
       "      <td>109.230000</td>\n",
       "      <td>10.000000</td>\n",
       "      <td>4.875110</td>\n",
       "      <td>5.000000</td>\n",
       "      <td>8.000000</td>\n",
       "      <td>124.000000</td>\n",
       "      <td>206.000000</td>\n",
       "      <td>3.000000</td>\n",
       "    </tr>\n",
       "  </tbody>\n",
       "</table>\n",
       "</div>"
      ],
      "text/plain": [
       "       Trip_Distance  Customer_Since_Months  Life_Style_Index  \\\n",
       "count  131662.000000          131662.000000     131662.000000   \n",
       "mean       44.200909               6.195766          2.802064   \n",
       "std        25.522882               3.639259          0.207760   \n",
       "min         0.310000               0.000000          1.596380   \n",
       "25%        24.580000               3.000000          2.687952   \n",
       "50%        38.200000               7.000000          2.802064   \n",
       "75%        60.730000              10.000000          2.912815   \n",
       "max       109.230000              10.000000          4.875110   \n",
       "\n",
       "       Customer_Rating  Cancellation_Last_1Month           Var2  \\\n",
       "count    131662.000000             131662.000000  131662.000000   \n",
       "mean          2.849458                  0.782838      51.202800   \n",
       "std           0.980675                  1.037559       4.986142   \n",
       "min           0.001250                  0.000000      40.000000   \n",
       "25%           2.152500                  0.000000      48.000000   \n",
       "50%           2.895000                  0.000000      50.000000   \n",
       "75%           3.582500                  1.000000      54.000000   \n",
       "max           5.000000                  8.000000     124.000000   \n",
       "\n",
       "                Var3  Surge_Pricing_Type  \n",
       "count  131662.000000       131662.000000  \n",
       "mean       75.099019            2.155747  \n",
       "std        11.578278            0.738164  \n",
       "min        52.000000            1.000000  \n",
       "25%        67.000000            2.000000  \n",
       "50%        74.000000            2.000000  \n",
       "75%        82.000000            3.000000  \n",
       "max       206.000000            3.000000  "
      ]
     },
     "execution_count": 46,
     "metadata": {},
     "output_type": "execute_result"
    }
   ],
   "source": [
    "df_train.describe()"
   ]
  },
  {
   "cell_type": "code",
   "execution_count": 47,
   "metadata": {},
   "outputs": [
    {
     "data": {
      "text/html": [
       "<div>\n",
       "<style scoped>\n",
       "    .dataframe tbody tr th:only-of-type {\n",
       "        vertical-align: middle;\n",
       "    }\n",
       "\n",
       "    .dataframe tbody tr th {\n",
       "        vertical-align: top;\n",
       "    }\n",
       "\n",
       "    .dataframe thead th {\n",
       "        text-align: right;\n",
       "    }\n",
       "</style>\n",
       "<table border=\"1\" class=\"dataframe\">\n",
       "  <thead>\n",
       "    <tr style=\"text-align: right;\">\n",
       "      <th></th>\n",
       "      <th>Trip_Distance</th>\n",
       "      <th>Customer_Since_Months</th>\n",
       "      <th>Life_Style_Index</th>\n",
       "      <th>Customer_Rating</th>\n",
       "      <th>Cancellation_Last_1Month</th>\n",
       "      <th>Var2</th>\n",
       "      <th>Var3</th>\n",
       "      <th>Surge_Pricing_Type</th>\n",
       "    </tr>\n",
       "  </thead>\n",
       "  <tbody>\n",
       "    <tr>\n",
       "      <th>Trip_Distance</th>\n",
       "      <td>1.000000</td>\n",
       "      <td>0.094443</td>\n",
       "      <td>0.468367</td>\n",
       "      <td>-0.054654</td>\n",
       "      <td>-0.007686</td>\n",
       "      <td>0.200456</td>\n",
       "      <td>0.231706</td>\n",
       "      <td>0.135928</td>\n",
       "    </tr>\n",
       "    <tr>\n",
       "      <th>Customer_Since_Months</th>\n",
       "      <td>0.094443</td>\n",
       "      <td>1.000000</td>\n",
       "      <td>0.081447</td>\n",
       "      <td>-0.055156</td>\n",
       "      <td>-0.007679</td>\n",
       "      <td>0.029413</td>\n",
       "      <td>0.103044</td>\n",
       "      <td>0.028340</td>\n",
       "    </tr>\n",
       "    <tr>\n",
       "      <th>Life_Style_Index</th>\n",
       "      <td>0.468367</td>\n",
       "      <td>0.081447</td>\n",
       "      <td>1.000000</td>\n",
       "      <td>0.189173</td>\n",
       "      <td>0.068176</td>\n",
       "      <td>0.215921</td>\n",
       "      <td>0.303296</td>\n",
       "      <td>-0.073682</td>\n",
       "    </tr>\n",
       "    <tr>\n",
       "      <th>Customer_Rating</th>\n",
       "      <td>-0.054654</td>\n",
       "      <td>-0.055156</td>\n",
       "      <td>0.189173</td>\n",
       "      <td>1.000000</td>\n",
       "      <td>0.003595</td>\n",
       "      <td>-0.302968</td>\n",
       "      <td>-0.227531</td>\n",
       "      <td>-0.155279</td>\n",
       "    </tr>\n",
       "    <tr>\n",
       "      <th>Cancellation_Last_1Month</th>\n",
       "      <td>-0.007686</td>\n",
       "      <td>-0.007679</td>\n",
       "      <td>0.068176</td>\n",
       "      <td>0.003595</td>\n",
       "      <td>1.000000</td>\n",
       "      <td>0.095830</td>\n",
       "      <td>0.128686</td>\n",
       "      <td>0.185646</td>\n",
       "    </tr>\n",
       "    <tr>\n",
       "      <th>Var2</th>\n",
       "      <td>0.200456</td>\n",
       "      <td>0.029413</td>\n",
       "      <td>0.215921</td>\n",
       "      <td>-0.302968</td>\n",
       "      <td>0.095830</td>\n",
       "      <td>1.000000</td>\n",
       "      <td>0.683437</td>\n",
       "      <td>0.003437</td>\n",
       "    </tr>\n",
       "    <tr>\n",
       "      <th>Var3</th>\n",
       "      <td>0.231706</td>\n",
       "      <td>0.103044</td>\n",
       "      <td>0.303296</td>\n",
       "      <td>-0.227531</td>\n",
       "      <td>0.128686</td>\n",
       "      <td>0.683437</td>\n",
       "      <td>1.000000</td>\n",
       "      <td>-0.039309</td>\n",
       "    </tr>\n",
       "    <tr>\n",
       "      <th>Surge_Pricing_Type</th>\n",
       "      <td>0.135928</td>\n",
       "      <td>0.028340</td>\n",
       "      <td>-0.073682</td>\n",
       "      <td>-0.155279</td>\n",
       "      <td>0.185646</td>\n",
       "      <td>0.003437</td>\n",
       "      <td>-0.039309</td>\n",
       "      <td>1.000000</td>\n",
       "    </tr>\n",
       "  </tbody>\n",
       "</table>\n",
       "</div>"
      ],
      "text/plain": [
       "                          Trip_Distance  Customer_Since_Months  \\\n",
       "Trip_Distance                  1.000000               0.094443   \n",
       "Customer_Since_Months          0.094443               1.000000   \n",
       "Life_Style_Index               0.468367               0.081447   \n",
       "Customer_Rating               -0.054654              -0.055156   \n",
       "Cancellation_Last_1Month      -0.007686              -0.007679   \n",
       "Var2                           0.200456               0.029413   \n",
       "Var3                           0.231706               0.103044   \n",
       "Surge_Pricing_Type             0.135928               0.028340   \n",
       "\n",
       "                          Life_Style_Index  Customer_Rating  \\\n",
       "Trip_Distance                     0.468367        -0.054654   \n",
       "Customer_Since_Months             0.081447        -0.055156   \n",
       "Life_Style_Index                  1.000000         0.189173   \n",
       "Customer_Rating                   0.189173         1.000000   \n",
       "Cancellation_Last_1Month          0.068176         0.003595   \n",
       "Var2                              0.215921        -0.302968   \n",
       "Var3                              0.303296        -0.227531   \n",
       "Surge_Pricing_Type               -0.073682        -0.155279   \n",
       "\n",
       "                          Cancellation_Last_1Month      Var2      Var3  \\\n",
       "Trip_Distance                            -0.007686  0.200456  0.231706   \n",
       "Customer_Since_Months                    -0.007679  0.029413  0.103044   \n",
       "Life_Style_Index                          0.068176  0.215921  0.303296   \n",
       "Customer_Rating                           0.003595 -0.302968 -0.227531   \n",
       "Cancellation_Last_1Month                  1.000000  0.095830  0.128686   \n",
       "Var2                                      0.095830  1.000000  0.683437   \n",
       "Var3                                      0.128686  0.683437  1.000000   \n",
       "Surge_Pricing_Type                        0.185646  0.003437 -0.039309   \n",
       "\n",
       "                          Surge_Pricing_Type  \n",
       "Trip_Distance                       0.135928  \n",
       "Customer_Since_Months               0.028340  \n",
       "Life_Style_Index                   -0.073682  \n",
       "Customer_Rating                    -0.155279  \n",
       "Cancellation_Last_1Month            0.185646  \n",
       "Var2                                0.003437  \n",
       "Var3                               -0.039309  \n",
       "Surge_Pricing_Type                  1.000000  "
      ]
     },
     "execution_count": 47,
     "metadata": {},
     "output_type": "execute_result"
    }
   ],
   "source": [
    "df_train.corr()"
   ]
  },
  {
   "cell_type": "code",
   "execution_count": 48,
   "metadata": {},
   "outputs": [
    {
     "data": {
      "image/png": "[encoded data removed]",
      "text/plain": [
       "<Figure size 720x360 with 2 Axes>"
      ]
     },
     "metadata": {
      "needs_background": "light"
     },
     "output_type": "display_data"
    }
   ],
   "source": [
    "plt.figure(figsize=(10,5))\n",
    "sns.heatmap(df_train.corr(),annot=True)\n",
    "plt.show()"
   ]
  },
  {
   "cell_type": "markdown",
   "metadata": {},
   "source": [
    "##### Inference\n",
    "- From the graph we can say that there is no strong correlation between any of the variable to target."
   ]
  },
  {
   "cell_type": "markdown",
   "metadata": {},
   "source": [
    "### Treating the Outliers"
   ]
  },
  {
   "cell_type": "code",
   "execution_count": 49,
   "metadata": {},
   "outputs": [
    {
     "data": {
      "image/png": "[encoded data removed]",
      "text/plain": [
       "<Figure size 432x288 with 1 Axes>"
      ]
     },
     "metadata": {
      "needs_background": "light"
     },
     "output_type": "display_data"
    },
    {
     "data": {
      "image/png": "[encoded data removed]",
      "text/plain": [
       "<Figure size 432x288 with 1 Axes>"
      ]
     },
     "metadata": {
      "needs_background": "light"
     },
     "output_type": "display_data"
    },
    {
     "data": {
      "image/png": "[encoded data removed]",
      "text/plain": [
       "<Figure size 432x288 with 1 Axes>"
      ]
     },
     "metadata": {
      "needs_background": "light"
     },
     "output_type": "display_data"
    },
    {
     "data": {
      "image/png": "[encoded data removed]",
      "text/plain": [
       "<Figure size 432x288 with 1 Axes>"
      ]
     },
     "metadata": {
      "needs_background": "light"
     },
     "output_type": "display_data"
    },
    {
     "data": {
      "image/png": "[encoded data removed]",
      "text/plain": [
       "<Figure size 432x288 with 1 Axes>"
      ]
     },
     "metadata": {
      "needs_background": "light"
     },
     "output_type": "display_data"
    },
    {
     "data": {
      "image/png": "[encoded data removed]",
      "text/plain": [
       "<Figure size 432x288 with 1 Axes>"
      ]
     },
     "metadata": {
      "needs_background": "light"
     },
     "output_type": "display_data"
    },
    {
     "data": {
      "image/png": "[encoded data removed]",
      "text/plain": [
       "<Figure size 432x288 with 1 Axes>"
      ]
     },
     "metadata": {
      "needs_background": "light"
     },
     "output_type": "display_data"
    },
    {
     "data": {
      "image/png": "[encoded data removed]",
      "text/plain": [
       "<Figure size 432x288 with 1 Axes>"
      ]
     },
     "metadata": {
      "needs_background": "light"
     },
     "output_type": "display_data"
    }
   ],
   "source": [
    "for col in numerical_features:\n",
    "    sns.boxplot(df_train[col])\n",
    "    plt.show()"
   ]
  },
  {
   "cell_type": "markdown",
   "metadata": {},
   "source": [
    "##### Inference\n",
    "- As we saw there are some outliers present in our dataset."
   ]
  },
  {
   "cell_type": "markdown",
   "metadata": {},
   "source": [
    "### Transformation"
   ]
  },
  {
   "cell_type": "code",
   "execution_count": 13,
   "metadata": {},
   "outputs": [
    {
     "name": "stdout",
     "output_type": "stream",
     "text": [
      "Cancellation_Last_1Month\n",
      "The Skewness of Cancellation_Last_1Month is 1.5442596931085575\n",
      "The P-value of Cancellation_Last_1Month is 0.0\n",
      "\n",
      "Customer_Since_Months\n",
      "The Skewness of Customer_Since_Months is -0.3173114142069423\n",
      "The P-value of Customer_Since_Months is 0.0\n",
      "\n",
      "Trip_Distance\n",
      "The Skewness of Trip_Distance is 0.7260082783456537\n",
      "The P-value of Trip_Distance is 0.0\n",
      "\n",
      "Life_Style_Index\n",
      "The Skewness of Life_Style_Index is 0.22502850608191527\n",
      "The P-value of Life_Style_Index is 0.0\n",
      "\n",
      "Customer_Rating\n",
      "The Skewness of Customer_Rating is -0.19266505605334006\n",
      "The P-value of Customer_Rating is 0.0\n",
      "\n",
      "Var2\n",
      "The Skewness of Var2 is 1.1679649458886794\n",
      "The P-value of Var2 is 0.0\n",
      "\n",
      "Var3\n",
      "The Skewness of Var3 is 0.8190389815207447\n",
      "The P-value of Var3 is 0.0\n",
      "\n"
     ]
    }
   ],
   "source": [
    "### Before Transformation\n",
    "import scipy.stats as stats\n",
    "cols = ['Cancellation_Last_1Month','Customer_Since_Months','Trip_Distance','Life_Style_Index',\n",
    "        'Customer_Rating', 'Var2', 'Var3']\n",
    "for i in cols:\n",
    "    print(i)\n",
    "    print(\"The Skewness of\",i,\"is\",df_all[i].skew())\n",
    "    print(\"The P-value of\",i,\"is\",stats.shapiro(df_all[i])[1])\n",
    "    print()"
   ]
  },
  {
   "cell_type": "code",
   "execution_count": 13,
   "metadata": {},
   "outputs": [],
   "source": [
    "### Transformation\n",
    "from sklearn.preprocessing import PowerTransformer\n",
    "pt = PowerTransformer()\n",
    "cols = ['Cancellation_Last_1Month','Customer_Since_Months','Trip_Distance','Life_Style_Index',\n",
    "        'Customer_Rating', 'Var2', 'Var3']\n",
    "for i in cols:\n",
    "    df_all[i]=pt.fit_transform(df_all[[i]])"
   ]
  },
  {
   "cell_type": "code",
   "execution_count": 15,
   "metadata": {},
   "outputs": [
    {
     "name": "stdout",
     "output_type": "stream",
     "text": [
      "Cancellation_Last_1Month\n",
      "The Skewness of Cancellation_Last_1Month is 0.2792420184089618\n",
      "The P-value of Cancellation_Last_1Month is 0.0\n",
      "\n",
      "Customer_Since_Months\n",
      "The Skewness of Customer_Since_Months is -0.353667745742443\n",
      "The P-value of Customer_Since_Months is 0.0\n",
      "\n",
      "Trip_Distance\n",
      "The Skewness of Trip_Distance is -0.04037405986680118\n",
      "The P-value of Trip_Distance is 0.0\n",
      "\n",
      "Life_Style_Index\n",
      "The Skewness of Life_Style_Index is 0.008721400833871068\n",
      "The P-value of Life_Style_Index is 0.0\n",
      "\n",
      "Customer_Rating\n",
      "The Skewness of Customer_Rating is -0.07450227371179766\n",
      "The P-value of Customer_Rating is 0.0\n",
      "\n",
      "Var2\n",
      "The Skewness of Var2 is 0.02276155703046413\n",
      "The P-value of Var2 is 0.0\n",
      "\n",
      "Var3\n",
      "The Skewness of Var3 is 0.018781132084892058\n",
      "The P-value of Var3 is 0.0\n",
      "\n"
     ]
    }
   ],
   "source": [
    "## After Transformation\n",
    "import scipy.stats as stats\n",
    "cols = ['Cancellation_Last_1Month','Customer_Since_Months','Trip_Distance','Life_Style_Index',\n",
    "        'Customer_Rating', 'Var2', 'Var3']\n",
    "for i in cols:\n",
    "    print(i)\n",
    "    print(\"The Skewness of\",i,\"is\",df_all[i].skew())\n",
    "    print(\"The P-value of\",i,\"is\",stats.shapiro(df_all[i])[1])\n",
    "    print()"
   ]
  },
  {
   "cell_type": "code",
   "execution_count": 16,
   "metadata": {},
   "outputs": [
    {
     "data": {
      "text/html": [
       "<div>\n",
       "<style scoped>\n",
       "    .dataframe tbody tr th:only-of-type {\n",
       "        vertical-align: middle;\n",
       "    }\n",
       "\n",
       "    .dataframe tbody tr th {\n",
       "        vertical-align: top;\n",
       "    }\n",
       "\n",
       "    .dataframe thead th {\n",
       "        text-align: right;\n",
       "    }\n",
       "</style>\n",
       "<table border=\"1\" class=\"dataframe\">\n",
       "  <thead>\n",
       "    <tr style=\"text-align: right;\">\n",
       "      <th></th>\n",
       "      <th>Trip_ID</th>\n",
       "      <th>Trip_Distance</th>\n",
       "      <th>Type_of_Cab</th>\n",
       "      <th>Customer_Since_Months</th>\n",
       "      <th>Life_Style_Index</th>\n",
       "      <th>Confidence_Life_Style_Index</th>\n",
       "      <th>Destination_Type</th>\n",
       "      <th>Customer_Rating</th>\n",
       "      <th>Cancellation_Last_1Month</th>\n",
       "      <th>Var2</th>\n",
       "      <th>Var3</th>\n",
       "      <th>Gender</th>\n",
       "      <th>Surge_Pricing_Type</th>\n",
       "      <th>data</th>\n",
       "    </tr>\n",
       "  </thead>\n",
       "  <tbody>\n",
       "    <tr>\n",
       "      <th>0</th>\n",
       "      <td>T0005689460</td>\n",
       "      <td>-2.050146</td>\n",
       "      <td>B</td>\n",
       "      <td>-1.436342</td>\n",
       "      <td>-1.848467</td>\n",
       "      <td>A</td>\n",
       "      <td>A</td>\n",
       "      <td>1.088112</td>\n",
       "      <td>-0.928235</td>\n",
       "      <td>-1.195084</td>\n",
       "      <td>-1.532008</td>\n",
       "      <td>Female</td>\n",
       "      <td>2.0</td>\n",
       "      <td>train</td>\n",
       "    </tr>\n",
       "    <tr>\n",
       "      <th>1</th>\n",
       "      <td>T0005689461</td>\n",
       "      <td>-0.447807</td>\n",
       "      <td>B</td>\n",
       "      <td>1.037875</td>\n",
       "      <td>-0.077120</td>\n",
       "      <td>B</td>\n",
       "      <td>A</td>\n",
       "      <td>0.601133</td>\n",
       "      <td>-0.928235</td>\n",
       "      <td>1.059582</td>\n",
       "      <td>0.401783</td>\n",
       "      <td>Male</td>\n",
       "      <td>2.0</td>\n",
       "      <td>train</td>\n",
       "    </tr>\n",
       "    <tr>\n",
       "      <th>2</th>\n",
       "      <td>T0005689464</td>\n",
       "      <td>0.083351</td>\n",
       "      <td>F</td>\n",
       "      <td>1.037875</td>\n",
       "      <td>0.017305</td>\n",
       "      <td>D</td>\n",
       "      <td>E</td>\n",
       "      <td>0.655500</td>\n",
       "      <td>1.284153</td>\n",
       "      <td>1.059582</td>\n",
       "      <td>0.317685</td>\n",
       "      <td>Male</td>\n",
       "      <td>2.0</td>\n",
       "      <td>train</td>\n",
       "    </tr>\n",
       "    <tr>\n",
       "      <th>3</th>\n",
       "      <td>T0005689465</td>\n",
       "      <td>0.780487</td>\n",
       "      <td>C</td>\n",
       "      <td>1.037875</td>\n",
       "      <td>0.017305</td>\n",
       "      <td>D</td>\n",
       "      <td>A</td>\n",
       "      <td>0.605107</td>\n",
       "      <td>-0.928235</td>\n",
       "      <td>0.345241</td>\n",
       "      <td>0.051987</td>\n",
       "      <td>Male</td>\n",
       "      <td>3.0</td>\n",
       "      <td>train</td>\n",
       "    </tr>\n",
       "    <tr>\n",
       "      <th>4</th>\n",
       "      <td>T0005689467</td>\n",
       "      <td>0.567899</td>\n",
       "      <td>C</td>\n",
       "      <td>1.037875</td>\n",
       "      <td>1.110910</td>\n",
       "      <td>B</td>\n",
       "      <td>A</td>\n",
       "      <td>0.550857</td>\n",
       "      <td>1.736303</td>\n",
       "      <td>-0.338789</td>\n",
       "      <td>1.931748</td>\n",
       "      <td>Male</td>\n",
       "      <td>2.0</td>\n",
       "      <td>train</td>\n",
       "    </tr>\n",
       "  </tbody>\n",
       "</table>\n",
       "</div>"
      ],
      "text/plain": [
       "       Trip_ID  Trip_Distance Type_of_Cab  Customer_Since_Months  \\\n",
       "0  T0005689460      -2.050146           B              -1.436342   \n",
       "1  T0005689461      -0.447807           B               1.037875   \n",
       "2  T0005689464       0.083351           F               1.037875   \n",
       "3  T0005689465       0.780487           C               1.037875   \n",
       "4  T0005689467       0.567899           C               1.037875   \n",
       "\n",
       "   Life_Style_Index Confidence_Life_Style_Index Destination_Type  \\\n",
       "0         -1.848467                           A                A   \n",
       "1         -0.077120                           B                A   \n",
       "2          0.017305                           D                E   \n",
       "3          0.017305                           D                A   \n",
       "4          1.110910                           B                A   \n",
       "\n",
       "   Customer_Rating  Cancellation_Last_1Month      Var2      Var3  Gender  \\\n",
       "0         1.088112                 -0.928235 -1.195084 -1.532008  Female   \n",
       "1         0.601133                 -0.928235  1.059582  0.401783    Male   \n",
       "2         0.655500                  1.284153  1.059582  0.317685    Male   \n",
       "3         0.605107                 -0.928235  0.345241  0.051987    Male   \n",
       "4         0.550857                  1.736303 -0.338789  1.931748    Male   \n",
       "\n",
       "   Surge_Pricing_Type   data  \n",
       "0                 2.0  train  \n",
       "1                 2.0  train  \n",
       "2                 2.0  train  \n",
       "3                 3.0  train  \n",
       "4                 2.0  train  "
      ]
     },
     "execution_count": 16,
     "metadata": {},
     "output_type": "execute_result"
    }
   ],
   "source": [
    "df_all.head()"
   ]
  },
  {
   "cell_type": "markdown",
   "metadata": {},
   "source": [
    "### Feature Selection (Stats Method)"
   ]
  },
  {
   "cell_type": "code",
   "execution_count": 26,
   "metadata": {},
   "outputs": [
    {
     "data": {
      "text/html": [
       "<div>\n",
       "<style scoped>\n",
       "    .dataframe tbody tr th:only-of-type {\n",
       "        vertical-align: middle;\n",
       "    }\n",
       "\n",
       "    .dataframe tbody tr th {\n",
       "        vertical-align: top;\n",
       "    }\n",
       "\n",
       "    .dataframe thead th {\n",
       "        text-align: right;\n",
       "    }\n",
       "</style>\n",
       "<table border=\"1\" class=\"dataframe\">\n",
       "  <thead>\n",
       "    <tr style=\"text-align: right;\">\n",
       "      <th></th>\n",
       "      <th>Feature</th>\n",
       "      <th>P-value</th>\n",
       "      <th>Significance</th>\n",
       "    </tr>\n",
       "  </thead>\n",
       "  <tbody>\n",
       "    <tr>\n",
       "      <th>0</th>\n",
       "      <td>Trip_ID</td>\n",
       "      <td>0.0</td>\n",
       "      <td>Significant</td>\n",
       "    </tr>\n",
       "    <tr>\n",
       "      <th>1</th>\n",
       "      <td>Type_of_Cab</td>\n",
       "      <td>0.0</td>\n",
       "      <td>Significant</td>\n",
       "    </tr>\n",
       "    <tr>\n",
       "      <th>2</th>\n",
       "      <td>Confidence_Life_Style_Index</td>\n",
       "      <td>0.0</td>\n",
       "      <td>Significant</td>\n",
       "    </tr>\n",
       "    <tr>\n",
       "      <th>3</th>\n",
       "      <td>Destination_Type</td>\n",
       "      <td>0.0</td>\n",
       "      <td>Significant</td>\n",
       "    </tr>\n",
       "    <tr>\n",
       "      <th>4</th>\n",
       "      <td>Gender</td>\n",
       "      <td>0.0</td>\n",
       "      <td>Significant</td>\n",
       "    </tr>\n",
       "    <tr>\n",
       "      <th>5</th>\n",
       "      <td>data</td>\n",
       "      <td>0.0</td>\n",
       "      <td>Significant</td>\n",
       "    </tr>\n",
       "  </tbody>\n",
       "</table>\n",
       "</div>"
      ],
      "text/plain": [
       "                       Feature  P-value Significance\n",
       "0                      Trip_ID      0.0  Significant\n",
       "1                  Type_of_Cab      0.0  Significant\n",
       "2  Confidence_Life_Style_Index      0.0  Significant\n",
       "3             Destination_Type      0.0  Significant\n",
       "4                       Gender      0.0  Significant\n",
       "5                         data      0.0  Significant"
      ]
     },
     "execution_count": 26,
     "metadata": {},
     "output_type": "execute_result"
    }
   ],
   "source": [
    "from scipy.stats import chi2_contingency\n",
    "cat_cols = df_all.select_dtypes(exclude=\"number\")\n",
    "col_name = []\n",
    "pvalue = []\n",
    "significance = []\n",
    "for col in cat_cols.columns:\n",
    "    col_name.append(col)\n",
    "    cs = chi2_contingency(pd.crosstab(df_all[col],df_all[\"Surge_Pricing_Type\"]))[1]\n",
    "    pvalue.append(round(cs, 4))\n",
    "    if (cs<0.05):\n",
    "        significance.append(\"Significant\")\n",
    "    else:\n",
    "        significance.append(\"Insignificant\")\n",
    "        \n",
    "pd.DataFrame({\"Feature\":col_name,\"P-value\":pvalue,\"Significance\":significance})"
   ]
  },
  {
   "cell_type": "code",
   "execution_count": 27,
   "metadata": {},
   "outputs": [
    {
     "data": {
      "text/html": [
       "<div>\n",
       "<style scoped>\n",
       "    .dataframe tbody tr th:only-of-type {\n",
       "        vertical-align: middle;\n",
       "    }\n",
       "\n",
       "    .dataframe tbody tr th {\n",
       "        vertical-align: top;\n",
       "    }\n",
       "\n",
       "    .dataframe thead th {\n",
       "        text-align: right;\n",
       "    }\n",
       "</style>\n",
       "<table border=\"1\" class=\"dataframe\">\n",
       "  <thead>\n",
       "    <tr style=\"text-align: right;\">\n",
       "      <th></th>\n",
       "      <th>Feature</th>\n",
       "      <th>P_value</th>\n",
       "      <th>Significance</th>\n",
       "    </tr>\n",
       "  </thead>\n",
       "  <tbody>\n",
       "    <tr>\n",
       "      <th>0</th>\n",
       "      <td>Trip_Distance</td>\n",
       "      <td>0.0</td>\n",
       "      <td>significant</td>\n",
       "    </tr>\n",
       "    <tr>\n",
       "      <th>1</th>\n",
       "      <td>Customer_Since_Months</td>\n",
       "      <td>0.0</td>\n",
       "      <td>significant</td>\n",
       "    </tr>\n",
       "    <tr>\n",
       "      <th>2</th>\n",
       "      <td>Life_Style_Index</td>\n",
       "      <td>0.0</td>\n",
       "      <td>significant</td>\n",
       "    </tr>\n",
       "    <tr>\n",
       "      <th>3</th>\n",
       "      <td>Customer_Rating</td>\n",
       "      <td>0.0</td>\n",
       "      <td>significant</td>\n",
       "    </tr>\n",
       "    <tr>\n",
       "      <th>4</th>\n",
       "      <td>Cancellation_Last_1Month</td>\n",
       "      <td>0.0</td>\n",
       "      <td>significant</td>\n",
       "    </tr>\n",
       "    <tr>\n",
       "      <th>5</th>\n",
       "      <td>Var2</td>\n",
       "      <td>0.0</td>\n",
       "      <td>significant</td>\n",
       "    </tr>\n",
       "    <tr>\n",
       "      <th>6</th>\n",
       "      <td>Var3</td>\n",
       "      <td>0.0</td>\n",
       "      <td>significant</td>\n",
       "    </tr>\n",
       "  </tbody>\n",
       "</table>\n",
       "</div>"
      ],
      "text/plain": [
       "                    Feature  P_value Significance\n",
       "0             Trip_Distance      0.0  significant\n",
       "1     Customer_Since_Months      0.0  significant\n",
       "2          Life_Style_Index      0.0  significant\n",
       "3           Customer_Rating      0.0  significant\n",
       "4  Cancellation_Last_1Month      0.0  significant\n",
       "5                      Var2      0.0  significant\n",
       "6                      Var3      0.0  significant"
      ]
     },
     "execution_count": 27,
     "metadata": {},
     "output_type": "execute_result"
    }
   ],
   "source": [
    "num_cols = df_all.select_dtypes(include=\"number\")\n",
    "col_name = []\n",
    "pvalue = []\n",
    "significance = []\n",
    "for col in num_cols.columns[:-1]:\n",
    "    col_name.append(col)\n",
    "    g1 = df_all[col][df_all[\"Surge_Pricing_Type\"]==1]\n",
    "    g2 = df_all[col][df_all[\"Surge_Pricing_Type\"]==2]\n",
    "    g3 = df_all[col][df_all[\"Surge_Pricing_Type\"]==3]\n",
    "    f_st1,f_p1 = stats.levene(g1,g2,g3)\n",
    "    if f_p1<0.05:\n",
    "        f_st_k,f_p_k = stats.kruskal(g1,g2,g3)\n",
    "        pvalue.append(round(f_p_k,4))\n",
    "        if f_p_k<0.05:\n",
    "            significance.append(\"significant\")\n",
    "        else:\n",
    "            significance.append(\"Insignificant\")\n",
    "    if f_p1>0.05:\n",
    "        f_st_f,f_p_f = stats.f_oneway(g1,g2,g3)\n",
    "        pvalue.append(round(f_p_f,4))\n",
    "        if f_p_f<0.05:\n",
    "            significance.append(\"significant\")\n",
    "        else:\n",
    "            significance.append(\"Insignificant\")\n",
    "pd.DataFrame({'Feature':col_name,'P_value':pvalue,'Significance':significance})"
   ]
  },
  {
   "cell_type": "code",
   "execution_count": 28,
   "metadata": {},
   "outputs": [
    {
     "data": {
      "text/plain": [
       "Index(['Type_of_Cab', 'Confidence_Life_Style_Index', 'Destination_Type',\n",
       "       'Gender'],\n",
       "      dtype='object')"
      ]
     },
     "execution_count": 28,
     "metadata": {},
     "output_type": "execute_result"
    }
   ],
   "source": [
    "cat_cols=df_all.select_dtypes('object')\n",
    "cat_cols.columns[1:-1]"
   ]
  },
  {
   "cell_type": "code",
   "execution_count": 29,
   "metadata": {
    "scrolled": true
   },
   "outputs": [
    {
     "name": "stdout",
     "output_type": "stream",
     "text": [
      "Type_of_Cab\n",
      "B    51585\n",
      "C    46732\n",
      "A    35878\n",
      "F    33368\n",
      "D    31885\n",
      "E    19609\n",
      "Name: Type_of_Cab, dtype: int64\n",
      "\n",
      "Confidence_Life_Style_Index\n",
      "B    67265\n",
      "C    59736\n",
      "A    58536\n",
      "D    33520\n",
      "Name: Confidence_Life_Style_Index, dtype: int64\n",
      "\n",
      "Destination_Type\n",
      "A    129010\n",
      "B     49193\n",
      "C     12397\n",
      "D     11085\n",
      "E      4549\n",
      "F      3222\n",
      "G      2513\n",
      "H      2124\n",
      "I      1334\n",
      "J      1166\n",
      "K      1102\n",
      "L      1052\n",
      "M       160\n",
      "N       150\n",
      "Name: Destination_Type, dtype: int64\n",
      "\n",
      "Gender\n",
      "Male      156128\n",
      "Female     62929\n",
      "Name: Gender, dtype: int64\n",
      "\n"
     ]
    }
   ],
   "source": [
    "for col in cat_cols.columns[1:-1]:\n",
    "    print(col)\n",
    "    print(df_all[col].value_counts())\n",
    "    print()"
   ]
  },
  {
   "cell_type": "code",
   "execution_count": 30,
   "metadata": {},
   "outputs": [
    {
     "name": "stdout",
     "output_type": "stream",
     "text": [
      "Type_of_Cab\n",
      "Confidence_Life_Style_Index\n",
      "Destination_Type\n",
      "Gender\n"
     ]
    }
   ],
   "source": [
    "# you can use following method if you want to ignore categories with too low frequencies ,\n",
    "#in next section for logistic regression we will be using  pandas' get dummies function. \n",
    "# you can work with either of these . \n",
    "#ignoring categories with low frequencies however will result in fewer columns without \n",
    "# affecting model performance too much \n",
    "\n",
    "for col in cat_cols.columns[1:-1]:\n",
    "    freqs=df_all[col].value_counts()\n",
    "    k=freqs.index[freqs>1000][:-1]\n",
    "    for cat in k:\n",
    "        name=col+'_'+cat\n",
    "        df_all[name]=(df_all[col]==cat).astype(int)\n",
    "    del df_all[col]\n",
    "    print(col)"
   ]
  },
  {
   "cell_type": "code",
   "execution_count": 31,
   "metadata": {},
   "outputs": [
    {
     "data": {
      "text/html": [
       "<div>\n",
       "<style scoped>\n",
       "    .dataframe tbody tr th:only-of-type {\n",
       "        vertical-align: middle;\n",
       "    }\n",
       "\n",
       "    .dataframe tbody tr th {\n",
       "        vertical-align: top;\n",
       "    }\n",
       "\n",
       "    .dataframe thead th {\n",
       "        text-align: right;\n",
       "    }\n",
       "</style>\n",
       "<table border=\"1\" class=\"dataframe\">\n",
       "  <thead>\n",
       "    <tr style=\"text-align: right;\">\n",
       "      <th></th>\n",
       "      <th>Trip_ID</th>\n",
       "      <th>Trip_Distance</th>\n",
       "      <th>Customer_Since_Months</th>\n",
       "      <th>Life_Style_Index</th>\n",
       "      <th>Customer_Rating</th>\n",
       "      <th>Cancellation_Last_1Month</th>\n",
       "      <th>Var2</th>\n",
       "      <th>Var3</th>\n",
       "      <th>Surge_Pricing_Type</th>\n",
       "      <th>data</th>\n",
       "      <th>Type_of_Cab_B</th>\n",
       "      <th>Type_of_Cab_C</th>\n",
       "      <th>Type_of_Cab_A</th>\n",
       "      <th>Type_of_Cab_F</th>\n",
       "      <th>Type_of_Cab_D</th>\n",
       "      <th>Confidence_Life_Style_Index_B</th>\n",
       "      <th>Confidence_Life_Style_Index_C</th>\n",
       "      <th>Confidence_Life_Style_Index_A</th>\n",
       "      <th>Destination_Type_A</th>\n",
       "      <th>Destination_Type_B</th>\n",
       "      <th>Destination_Type_C</th>\n",
       "      <th>Destination_Type_D</th>\n",
       "      <th>Destination_Type_E</th>\n",
       "      <th>Destination_Type_F</th>\n",
       "      <th>Destination_Type_G</th>\n",
       "      <th>Destination_Type_H</th>\n",
       "      <th>Destination_Type_I</th>\n",
       "      <th>Destination_Type_J</th>\n",
       "      <th>Destination_Type_K</th>\n",
       "      <th>Gender_Male</th>\n",
       "    </tr>\n",
       "  </thead>\n",
       "  <tbody>\n",
       "    <tr>\n",
       "      <th>0</th>\n",
       "      <td>T0005689460</td>\n",
       "      <td>-2.050146</td>\n",
       "      <td>-1.436342</td>\n",
       "      <td>-1.848467</td>\n",
       "      <td>1.088112</td>\n",
       "      <td>-0.928235</td>\n",
       "      <td>-1.195084</td>\n",
       "      <td>-1.532008</td>\n",
       "      <td>2.0</td>\n",
       "      <td>train</td>\n",
       "      <td>1</td>\n",
       "      <td>0</td>\n",
       "      <td>0</td>\n",
       "      <td>0</td>\n",
       "      <td>0</td>\n",
       "      <td>0</td>\n",
       "      <td>0</td>\n",
       "      <td>1</td>\n",
       "      <td>1</td>\n",
       "      <td>0</td>\n",
       "      <td>0</td>\n",
       "      <td>0</td>\n",
       "      <td>0</td>\n",
       "      <td>0</td>\n",
       "      <td>0</td>\n",
       "      <td>0</td>\n",
       "      <td>0</td>\n",
       "      <td>0</td>\n",
       "      <td>0</td>\n",
       "      <td>0</td>\n",
       "    </tr>\n",
       "    <tr>\n",
       "      <th>1</th>\n",
       "      <td>T0005689461</td>\n",
       "      <td>-0.447807</td>\n",
       "      <td>1.037875</td>\n",
       "      <td>-0.077120</td>\n",
       "      <td>0.601133</td>\n",
       "      <td>-0.928235</td>\n",
       "      <td>1.059582</td>\n",
       "      <td>0.401783</td>\n",
       "      <td>2.0</td>\n",
       "      <td>train</td>\n",
       "      <td>1</td>\n",
       "      <td>0</td>\n",
       "      <td>0</td>\n",
       "      <td>0</td>\n",
       "      <td>0</td>\n",
       "      <td>1</td>\n",
       "      <td>0</td>\n",
       "      <td>0</td>\n",
       "      <td>1</td>\n",
       "      <td>0</td>\n",
       "      <td>0</td>\n",
       "      <td>0</td>\n",
       "      <td>0</td>\n",
       "      <td>0</td>\n",
       "      <td>0</td>\n",
       "      <td>0</td>\n",
       "      <td>0</td>\n",
       "      <td>0</td>\n",
       "      <td>0</td>\n",
       "      <td>1</td>\n",
       "    </tr>\n",
       "    <tr>\n",
       "      <th>2</th>\n",
       "      <td>T0005689464</td>\n",
       "      <td>0.083351</td>\n",
       "      <td>1.037875</td>\n",
       "      <td>0.017305</td>\n",
       "      <td>0.655500</td>\n",
       "      <td>1.284153</td>\n",
       "      <td>1.059582</td>\n",
       "      <td>0.317685</td>\n",
       "      <td>2.0</td>\n",
       "      <td>train</td>\n",
       "      <td>0</td>\n",
       "      <td>0</td>\n",
       "      <td>0</td>\n",
       "      <td>1</td>\n",
       "      <td>0</td>\n",
       "      <td>0</td>\n",
       "      <td>0</td>\n",
       "      <td>0</td>\n",
       "      <td>0</td>\n",
       "      <td>0</td>\n",
       "      <td>0</td>\n",
       "      <td>0</td>\n",
       "      <td>1</td>\n",
       "      <td>0</td>\n",
       "      <td>0</td>\n",
       "      <td>0</td>\n",
       "      <td>0</td>\n",
       "      <td>0</td>\n",
       "      <td>0</td>\n",
       "      <td>1</td>\n",
       "    </tr>\n",
       "    <tr>\n",
       "      <th>3</th>\n",
       "      <td>T0005689465</td>\n",
       "      <td>0.780487</td>\n",
       "      <td>1.037875</td>\n",
       "      <td>0.017305</td>\n",
       "      <td>0.605107</td>\n",
       "      <td>-0.928235</td>\n",
       "      <td>0.345241</td>\n",
       "      <td>0.051987</td>\n",
       "      <td>3.0</td>\n",
       "      <td>train</td>\n",
       "      <td>0</td>\n",
       "      <td>1</td>\n",
       "      <td>0</td>\n",
       "      <td>0</td>\n",
       "      <td>0</td>\n",
       "      <td>0</td>\n",
       "      <td>0</td>\n",
       "      <td>0</td>\n",
       "      <td>1</td>\n",
       "      <td>0</td>\n",
       "      <td>0</td>\n",
       "      <td>0</td>\n",
       "      <td>0</td>\n",
       "      <td>0</td>\n",
       "      <td>0</td>\n",
       "      <td>0</td>\n",
       "      <td>0</td>\n",
       "      <td>0</td>\n",
       "      <td>0</td>\n",
       "      <td>1</td>\n",
       "    </tr>\n",
       "    <tr>\n",
       "      <th>4</th>\n",
       "      <td>T0005689467</td>\n",
       "      <td>0.567899</td>\n",
       "      <td>1.037875</td>\n",
       "      <td>1.110910</td>\n",
       "      <td>0.550857</td>\n",
       "      <td>1.736303</td>\n",
       "      <td>-0.338789</td>\n",
       "      <td>1.931748</td>\n",
       "      <td>2.0</td>\n",
       "      <td>train</td>\n",
       "      <td>0</td>\n",
       "      <td>1</td>\n",
       "      <td>0</td>\n",
       "      <td>0</td>\n",
       "      <td>0</td>\n",
       "      <td>1</td>\n",
       "      <td>0</td>\n",
       "      <td>0</td>\n",
       "      <td>1</td>\n",
       "      <td>0</td>\n",
       "      <td>0</td>\n",
       "      <td>0</td>\n",
       "      <td>0</td>\n",
       "      <td>0</td>\n",
       "      <td>0</td>\n",
       "      <td>0</td>\n",
       "      <td>0</td>\n",
       "      <td>0</td>\n",
       "      <td>0</td>\n",
       "      <td>1</td>\n",
       "    </tr>\n",
       "  </tbody>\n",
       "</table>\n",
       "</div>"
      ],
      "text/plain": [
       "       Trip_ID  Trip_Distance  Customer_Since_Months  Life_Style_Index  \\\n",
       "0  T0005689460      -2.050146              -1.436342         -1.848467   \n",
       "1  T0005689461      -0.447807               1.037875         -0.077120   \n",
       "2  T0005689464       0.083351               1.037875          0.017305   \n",
       "3  T0005689465       0.780487               1.037875          0.017305   \n",
       "4  T0005689467       0.567899               1.037875          1.110910   \n",
       "\n",
       "   Customer_Rating  Cancellation_Last_1Month      Var2      Var3  \\\n",
       "0         1.088112                 -0.928235 -1.195084 -1.532008   \n",
       "1         0.601133                 -0.928235  1.059582  0.401783   \n",
       "2         0.655500                  1.284153  1.059582  0.317685   \n",
       "3         0.605107                 -0.928235  0.345241  0.051987   \n",
       "4         0.550857                  1.736303 -0.338789  1.931748   \n",
       "\n",
       "   Surge_Pricing_Type   data  Type_of_Cab_B  Type_of_Cab_C  Type_of_Cab_A  \\\n",
       "0                 2.0  train              1              0              0   \n",
       "1                 2.0  train              1              0              0   \n",
       "2                 2.0  train              0              0              0   \n",
       "3                 3.0  train              0              1              0   \n",
       "4                 2.0  train              0              1              0   \n",
       "\n",
       "   Type_of_Cab_F  Type_of_Cab_D  Confidence_Life_Style_Index_B  \\\n",
       "0              0              0                              0   \n",
       "1              0              0                              1   \n",
       "2              1              0                              0   \n",
       "3              0              0                              0   \n",
       "4              0              0                              1   \n",
       "\n",
       "   Confidence_Life_Style_Index_C  Confidence_Life_Style_Index_A  \\\n",
       "0                              0                              1   \n",
       "1                              0                              0   \n",
       "2                              0                              0   \n",
       "3                              0                              0   \n",
       "4                              0                              0   \n",
       "\n",
       "   Destination_Type_A  Destination_Type_B  Destination_Type_C  \\\n",
       "0                   1                   0                   0   \n",
       "1                   1                   0                   0   \n",
       "2                   0                   0                   0   \n",
       "3                   1                   0                   0   \n",
       "4                   1                   0                   0   \n",
       "\n",
       "   Destination_Type_D  Destination_Type_E  Destination_Type_F  \\\n",
       "0                   0                   0                   0   \n",
       "1                   0                   0                   0   \n",
       "2                   0                   1                   0   \n",
       "3                   0                   0                   0   \n",
       "4                   0                   0                   0   \n",
       "\n",
       "   Destination_Type_G  Destination_Type_H  Destination_Type_I  \\\n",
       "0                   0                   0                   0   \n",
       "1                   0                   0                   0   \n",
       "2                   0                   0                   0   \n",
       "3                   0                   0                   0   \n",
       "4                   0                   0                   0   \n",
       "\n",
       "   Destination_Type_J  Destination_Type_K  Gender_Male  \n",
       "0                   0                   0            0  \n",
       "1                   0                   0            1  \n",
       "2                   0                   0            1  \n",
       "3                   0                   0            1  \n",
       "4                   0                   0            1  "
      ]
     },
     "execution_count": 31,
     "metadata": {},
     "output_type": "execute_result"
    }
   ],
   "source": [
    "df_all.head()"
   ]
  },
  {
   "cell_type": "code",
   "execution_count": 32,
   "metadata": {},
   "outputs": [
    {
     "data": {
      "text/plain": [
       "(219057, 30)"
      ]
     },
     "execution_count": 32,
     "metadata": {},
     "output_type": "execute_result"
    }
   ],
   "source": [
    "df_all.shape"
   ]
  },
  {
   "cell_type": "code",
   "execution_count": 27,
   "metadata": {},
   "outputs": [],
   "source": [
    "df_train = df_all[df_all[\"data\"]==\"train\"]\n",
    "del df_train[\"data\"]\n",
    "df_test = df_all[df_all[\"data\"]==\"test\"]\n",
    "df_test.drop([\"Surge_Pricing_Type\",\"data\"],axis=1,inplace=True)"
   ]
  },
  {
   "cell_type": "code",
   "execution_count": 34,
   "metadata": {},
   "outputs": [
    {
     "data": {
      "text/html": [
       "<div>\n",
       "<style scoped>\n",
       "    .dataframe tbody tr th:only-of-type {\n",
       "        vertical-align: middle;\n",
       "    }\n",
       "\n",
       "    .dataframe tbody tr th {\n",
       "        vertical-align: top;\n",
       "    }\n",
       "\n",
       "    .dataframe thead th {\n",
       "        text-align: right;\n",
       "    }\n",
       "</style>\n",
       "<table border=\"1\" class=\"dataframe\">\n",
       "  <thead>\n",
       "    <tr style=\"text-align: right;\">\n",
       "      <th></th>\n",
       "      <th>Trip_ID</th>\n",
       "      <th>Trip_Distance</th>\n",
       "      <th>Customer_Since_Months</th>\n",
       "      <th>Life_Style_Index</th>\n",
       "      <th>Customer_Rating</th>\n",
       "      <th>Cancellation_Last_1Month</th>\n",
       "      <th>Var2</th>\n",
       "      <th>Var3</th>\n",
       "      <th>Surge_Pricing_Type</th>\n",
       "      <th>Type_of_Cab_B</th>\n",
       "      <th>Type_of_Cab_C</th>\n",
       "      <th>Type_of_Cab_A</th>\n",
       "      <th>Type_of_Cab_F</th>\n",
       "      <th>Type_of_Cab_D</th>\n",
       "      <th>Confidence_Life_Style_Index_B</th>\n",
       "      <th>Confidence_Life_Style_Index_C</th>\n",
       "      <th>Confidence_Life_Style_Index_A</th>\n",
       "      <th>Destination_Type_A</th>\n",
       "      <th>Destination_Type_B</th>\n",
       "      <th>Destination_Type_C</th>\n",
       "      <th>Destination_Type_D</th>\n",
       "      <th>Destination_Type_E</th>\n",
       "      <th>Destination_Type_F</th>\n",
       "      <th>Destination_Type_G</th>\n",
       "      <th>Destination_Type_H</th>\n",
       "      <th>Destination_Type_I</th>\n",
       "      <th>Destination_Type_J</th>\n",
       "      <th>Destination_Type_K</th>\n",
       "      <th>Gender_Male</th>\n",
       "    </tr>\n",
       "  </thead>\n",
       "  <tbody>\n",
       "    <tr>\n",
       "      <th>0</th>\n",
       "      <td>T0005689460</td>\n",
       "      <td>-2.050146</td>\n",
       "      <td>-1.436342</td>\n",
       "      <td>-1.848467</td>\n",
       "      <td>1.088112</td>\n",
       "      <td>-0.928235</td>\n",
       "      <td>-1.195084</td>\n",
       "      <td>-1.532008</td>\n",
       "      <td>2.0</td>\n",
       "      <td>1</td>\n",
       "      <td>0</td>\n",
       "      <td>0</td>\n",
       "      <td>0</td>\n",
       "      <td>0</td>\n",
       "      <td>0</td>\n",
       "      <td>0</td>\n",
       "      <td>1</td>\n",
       "      <td>1</td>\n",
       "      <td>0</td>\n",
       "      <td>0</td>\n",
       "      <td>0</td>\n",
       "      <td>0</td>\n",
       "      <td>0</td>\n",
       "      <td>0</td>\n",
       "      <td>0</td>\n",
       "      <td>0</td>\n",
       "      <td>0</td>\n",
       "      <td>0</td>\n",
       "      <td>0</td>\n",
       "    </tr>\n",
       "    <tr>\n",
       "      <th>1</th>\n",
       "      <td>T0005689461</td>\n",
       "      <td>-0.447807</td>\n",
       "      <td>1.037875</td>\n",
       "      <td>-0.077120</td>\n",
       "      <td>0.601133</td>\n",
       "      <td>-0.928235</td>\n",
       "      <td>1.059582</td>\n",
       "      <td>0.401783</td>\n",
       "      <td>2.0</td>\n",
       "      <td>1</td>\n",
       "      <td>0</td>\n",
       "      <td>0</td>\n",
       "      <td>0</td>\n",
       "      <td>0</td>\n",
       "      <td>1</td>\n",
       "      <td>0</td>\n",
       "      <td>0</td>\n",
       "      <td>1</td>\n",
       "      <td>0</td>\n",
       "      <td>0</td>\n",
       "      <td>0</td>\n",
       "      <td>0</td>\n",
       "      <td>0</td>\n",
       "      <td>0</td>\n",
       "      <td>0</td>\n",
       "      <td>0</td>\n",
       "      <td>0</td>\n",
       "      <td>0</td>\n",
       "      <td>1</td>\n",
       "    </tr>\n",
       "    <tr>\n",
       "      <th>2</th>\n",
       "      <td>T0005689464</td>\n",
       "      <td>0.083351</td>\n",
       "      <td>1.037875</td>\n",
       "      <td>0.017305</td>\n",
       "      <td>0.655500</td>\n",
       "      <td>1.284153</td>\n",
       "      <td>1.059582</td>\n",
       "      <td>0.317685</td>\n",
       "      <td>2.0</td>\n",
       "      <td>0</td>\n",
       "      <td>0</td>\n",
       "      <td>0</td>\n",
       "      <td>1</td>\n",
       "      <td>0</td>\n",
       "      <td>0</td>\n",
       "      <td>0</td>\n",
       "      <td>0</td>\n",
       "      <td>0</td>\n",
       "      <td>0</td>\n",
       "      <td>0</td>\n",
       "      <td>0</td>\n",
       "      <td>1</td>\n",
       "      <td>0</td>\n",
       "      <td>0</td>\n",
       "      <td>0</td>\n",
       "      <td>0</td>\n",
       "      <td>0</td>\n",
       "      <td>0</td>\n",
       "      <td>1</td>\n",
       "    </tr>\n",
       "    <tr>\n",
       "      <th>3</th>\n",
       "      <td>T0005689465</td>\n",
       "      <td>0.780487</td>\n",
       "      <td>1.037875</td>\n",
       "      <td>0.017305</td>\n",
       "      <td>0.605107</td>\n",
       "      <td>-0.928235</td>\n",
       "      <td>0.345241</td>\n",
       "      <td>0.051987</td>\n",
       "      <td>3.0</td>\n",
       "      <td>0</td>\n",
       "      <td>1</td>\n",
       "      <td>0</td>\n",
       "      <td>0</td>\n",
       "      <td>0</td>\n",
       "      <td>0</td>\n",
       "      <td>0</td>\n",
       "      <td>0</td>\n",
       "      <td>1</td>\n",
       "      <td>0</td>\n",
       "      <td>0</td>\n",
       "      <td>0</td>\n",
       "      <td>0</td>\n",
       "      <td>0</td>\n",
       "      <td>0</td>\n",
       "      <td>0</td>\n",
       "      <td>0</td>\n",
       "      <td>0</td>\n",
       "      <td>0</td>\n",
       "      <td>1</td>\n",
       "    </tr>\n",
       "    <tr>\n",
       "      <th>4</th>\n",
       "      <td>T0005689467</td>\n",
       "      <td>0.567899</td>\n",
       "      <td>1.037875</td>\n",
       "      <td>1.110910</td>\n",
       "      <td>0.550857</td>\n",
       "      <td>1.736303</td>\n",
       "      <td>-0.338789</td>\n",
       "      <td>1.931748</td>\n",
       "      <td>2.0</td>\n",
       "      <td>0</td>\n",
       "      <td>1</td>\n",
       "      <td>0</td>\n",
       "      <td>0</td>\n",
       "      <td>0</td>\n",
       "      <td>1</td>\n",
       "      <td>0</td>\n",
       "      <td>0</td>\n",
       "      <td>1</td>\n",
       "      <td>0</td>\n",
       "      <td>0</td>\n",
       "      <td>0</td>\n",
       "      <td>0</td>\n",
       "      <td>0</td>\n",
       "      <td>0</td>\n",
       "      <td>0</td>\n",
       "      <td>0</td>\n",
       "      <td>0</td>\n",
       "      <td>0</td>\n",
       "      <td>1</td>\n",
       "    </tr>\n",
       "  </tbody>\n",
       "</table>\n",
       "</div>"
      ],
      "text/plain": [
       "       Trip_ID  Trip_Distance  Customer_Since_Months  Life_Style_Index  \\\n",
       "0  T0005689460      -2.050146              -1.436342         -1.848467   \n",
       "1  T0005689461      -0.447807               1.037875         -0.077120   \n",
       "2  T0005689464       0.083351               1.037875          0.017305   \n",
       "3  T0005689465       0.780487               1.037875          0.017305   \n",
       "4  T0005689467       0.567899               1.037875          1.110910   \n",
       "\n",
       "   Customer_Rating  Cancellation_Last_1Month      Var2      Var3  \\\n",
       "0         1.088112                 -0.928235 -1.195084 -1.532008   \n",
       "1         0.601133                 -0.928235  1.059582  0.401783   \n",
       "2         0.655500                  1.284153  1.059582  0.317685   \n",
       "3         0.605107                 -0.928235  0.345241  0.051987   \n",
       "4         0.550857                  1.736303 -0.338789  1.931748   \n",
       "\n",
       "   Surge_Pricing_Type  Type_of_Cab_B  Type_of_Cab_C  Type_of_Cab_A  \\\n",
       "0                 2.0              1              0              0   \n",
       "1                 2.0              1              0              0   \n",
       "2                 2.0              0              0              0   \n",
       "3                 3.0              0              1              0   \n",
       "4                 2.0              0              1              0   \n",
       "\n",
       "   Type_of_Cab_F  Type_of_Cab_D  Confidence_Life_Style_Index_B  \\\n",
       "0              0              0                              0   \n",
       "1              0              0                              1   \n",
       "2              1              0                              0   \n",
       "3              0              0                              0   \n",
       "4              0              0                              1   \n",
       "\n",
       "   Confidence_Life_Style_Index_C  Confidence_Life_Style_Index_A  \\\n",
       "0                              0                              1   \n",
       "1                              0                              0   \n",
       "2                              0                              0   \n",
       "3                              0                              0   \n",
       "4                              0                              0   \n",
       "\n",
       "   Destination_Type_A  Destination_Type_B  Destination_Type_C  \\\n",
       "0                   1                   0                   0   \n",
       "1                   1                   0                   0   \n",
       "2                   0                   0                   0   \n",
       "3                   1                   0                   0   \n",
       "4                   1                   0                   0   \n",
       "\n",
       "   Destination_Type_D  Destination_Type_E  Destination_Type_F  \\\n",
       "0                   0                   0                   0   \n",
       "1                   0                   0                   0   \n",
       "2                   0                   1                   0   \n",
       "3                   0                   0                   0   \n",
       "4                   0                   0                   0   \n",
       "\n",
       "   Destination_Type_G  Destination_Type_H  Destination_Type_I  \\\n",
       "0                   0                   0                   0   \n",
       "1                   0                   0                   0   \n",
       "2                   0                   0                   0   \n",
       "3                   0                   0                   0   \n",
       "4                   0                   0                   0   \n",
       "\n",
       "   Destination_Type_J  Destination_Type_K  Gender_Male  \n",
       "0                   0                   0            0  \n",
       "1                   0                   0            1  \n",
       "2                   0                   0            1  \n",
       "3                   0                   0            1  \n",
       "4                   0                   0            1  "
      ]
     },
     "execution_count": 34,
     "metadata": {},
     "output_type": "execute_result"
    }
   ],
   "source": [
    "df_train.head()"
   ]
  },
  {
   "cell_type": "code",
   "execution_count": 35,
   "metadata": {},
   "outputs": [
    {
     "data": {
      "text/plain": [
       "(131662, 29)"
      ]
     },
     "execution_count": 35,
     "metadata": {},
     "output_type": "execute_result"
    }
   ],
   "source": [
    "df_train.shape"
   ]
  },
  {
   "cell_type": "code",
   "execution_count": 36,
   "metadata": {},
   "outputs": [
    {
     "data": {
      "text/plain": [
       "Trip_ID                          0\n",
       "Trip_Distance                    0\n",
       "Customer_Since_Months            0\n",
       "Life_Style_Index                 0\n",
       "Customer_Rating                  0\n",
       "Cancellation_Last_1Month         0\n",
       "Var2                             0\n",
       "Var3                             0\n",
       "Surge_Pricing_Type               0\n",
       "Type_of_Cab_B                    0\n",
       "Type_of_Cab_C                    0\n",
       "Type_of_Cab_A                    0\n",
       "Type_of_Cab_F                    0\n",
       "Type_of_Cab_D                    0\n",
       "Confidence_Life_Style_Index_B    0\n",
       "Confidence_Life_Style_Index_C    0\n",
       "Confidence_Life_Style_Index_A    0\n",
       "Destination_Type_A               0\n",
       "Destination_Type_B               0\n",
       "Destination_Type_C               0\n",
       "Destination_Type_D               0\n",
       "Destination_Type_E               0\n",
       "Destination_Type_F               0\n",
       "Destination_Type_G               0\n",
       "Destination_Type_H               0\n",
       "Destination_Type_I               0\n",
       "Destination_Type_J               0\n",
       "Destination_Type_K               0\n",
       "Gender_Male                      0\n",
       "dtype: int64"
      ]
     },
     "execution_count": 36,
     "metadata": {},
     "output_type": "execute_result"
    }
   ],
   "source": [
    "df_train.isnull().sum()"
   ]
  },
  {
   "cell_type": "code",
   "execution_count": 37,
   "metadata": {},
   "outputs": [
    {
     "data": {
      "text/html": [
       "<div>\n",
       "<style scoped>\n",
       "    .dataframe tbody tr th:only-of-type {\n",
       "        vertical-align: middle;\n",
       "    }\n",
       "\n",
       "    .dataframe tbody tr th {\n",
       "        vertical-align: top;\n",
       "    }\n",
       "\n",
       "    .dataframe thead th {\n",
       "        text-align: right;\n",
       "    }\n",
       "</style>\n",
       "<table border=\"1\" class=\"dataframe\">\n",
       "  <thead>\n",
       "    <tr style=\"text-align: right;\">\n",
       "      <th></th>\n",
       "      <th>Trip_ID</th>\n",
       "      <th>Trip_Distance</th>\n",
       "      <th>Customer_Since_Months</th>\n",
       "      <th>Life_Style_Index</th>\n",
       "      <th>Customer_Rating</th>\n",
       "      <th>Cancellation_Last_1Month</th>\n",
       "      <th>Var2</th>\n",
       "      <th>Var3</th>\n",
       "      <th>Type_of_Cab_B</th>\n",
       "      <th>Type_of_Cab_C</th>\n",
       "      <th>Type_of_Cab_A</th>\n",
       "      <th>Type_of_Cab_F</th>\n",
       "      <th>Type_of_Cab_D</th>\n",
       "      <th>Confidence_Life_Style_Index_B</th>\n",
       "      <th>Confidence_Life_Style_Index_C</th>\n",
       "      <th>Confidence_Life_Style_Index_A</th>\n",
       "      <th>Destination_Type_A</th>\n",
       "      <th>Destination_Type_B</th>\n",
       "      <th>Destination_Type_C</th>\n",
       "      <th>Destination_Type_D</th>\n",
       "      <th>Destination_Type_E</th>\n",
       "      <th>Destination_Type_F</th>\n",
       "      <th>Destination_Type_G</th>\n",
       "      <th>Destination_Type_H</th>\n",
       "      <th>Destination_Type_I</th>\n",
       "      <th>Destination_Type_J</th>\n",
       "      <th>Destination_Type_K</th>\n",
       "      <th>Gender_Male</th>\n",
       "    </tr>\n",
       "  </thead>\n",
       "  <tbody>\n",
       "    <tr>\n",
       "      <th>0</th>\n",
       "      <td>T0005689459</td>\n",
       "      <td>-1.768505</td>\n",
       "      <td>1.037875</td>\n",
       "      <td>-1.100919</td>\n",
       "      <td>0.846098</td>\n",
       "      <td>1.284153</td>\n",
       "      <td>-1.195084</td>\n",
       "      <td>-1.134465</td>\n",
       "      <td>0</td>\n",
       "      <td>0</td>\n",
       "      <td>1</td>\n",
       "      <td>0</td>\n",
       "      <td>0</td>\n",
       "      <td>0</td>\n",
       "      <td>0</td>\n",
       "      <td>1</td>\n",
       "      <td>0</td>\n",
       "      <td>1</td>\n",
       "      <td>0</td>\n",
       "      <td>0</td>\n",
       "      <td>0</td>\n",
       "      <td>0</td>\n",
       "      <td>0</td>\n",
       "      <td>0</td>\n",
       "      <td>0</td>\n",
       "      <td>0</td>\n",
       "      <td>0</td>\n",
       "      <td>1</td>\n",
       "    </tr>\n",
       "    <tr>\n",
       "      <th>1</th>\n",
       "      <td>T0005689462</td>\n",
       "      <td>-0.320094</td>\n",
       "      <td>1.037875</td>\n",
       "      <td>0.253438</td>\n",
       "      <td>-1.271090</td>\n",
       "      <td>-0.928235</td>\n",
       "      <td>-0.338789</td>\n",
       "      <td>0.563772</td>\n",
       "      <td>1</td>\n",
       "      <td>0</td>\n",
       "      <td>0</td>\n",
       "      <td>0</td>\n",
       "      <td>0</td>\n",
       "      <td>0</td>\n",
       "      <td>0</td>\n",
       "      <td>1</td>\n",
       "      <td>1</td>\n",
       "      <td>0</td>\n",
       "      <td>0</td>\n",
       "      <td>0</td>\n",
       "      <td>0</td>\n",
       "      <td>0</td>\n",
       "      <td>0</td>\n",
       "      <td>0</td>\n",
       "      <td>0</td>\n",
       "      <td>0</td>\n",
       "      <td>0</td>\n",
       "      <td>0</td>\n",
       "    </tr>\n",
       "    <tr>\n",
       "      <th>2</th>\n",
       "      <td>T0005689463</td>\n",
       "      <td>-1.680368</td>\n",
       "      <td>-0.578396</td>\n",
       "      <td>-0.451948</td>\n",
       "      <td>1.744324</td>\n",
       "      <td>-0.928235</td>\n",
       "      <td>-0.887310</td>\n",
       "      <td>0.051987</td>\n",
       "      <td>0</td>\n",
       "      <td>1</td>\n",
       "      <td>0</td>\n",
       "      <td>0</td>\n",
       "      <td>0</td>\n",
       "      <td>0</td>\n",
       "      <td>0</td>\n",
       "      <td>1</td>\n",
       "      <td>0</td>\n",
       "      <td>0</td>\n",
       "      <td>0</td>\n",
       "      <td>1</td>\n",
       "      <td>0</td>\n",
       "      <td>0</td>\n",
       "      <td>0</td>\n",
       "      <td>0</td>\n",
       "      <td>0</td>\n",
       "      <td>0</td>\n",
       "      <td>0</td>\n",
       "      <td>1</td>\n",
       "    </tr>\n",
       "    <tr>\n",
       "      <th>3</th>\n",
       "      <td>T0005689466</td>\n",
       "      <td>-1.307791</td>\n",
       "      <td>-0.029264</td>\n",
       "      <td>-1.571190</td>\n",
       "      <td>1.771993</td>\n",
       "      <td>-0.928235</td>\n",
       "      <td>-2.282568</td>\n",
       "      <td>-2.456677</td>\n",
       "      <td>0</td>\n",
       "      <td>0</td>\n",
       "      <td>0</td>\n",
       "      <td>1</td>\n",
       "      <td>0</td>\n",
       "      <td>0</td>\n",
       "      <td>1</td>\n",
       "      <td>0</td>\n",
       "      <td>0</td>\n",
       "      <td>0</td>\n",
       "      <td>0</td>\n",
       "      <td>0</td>\n",
       "      <td>1</td>\n",
       "      <td>0</td>\n",
       "      <td>0</td>\n",
       "      <td>0</td>\n",
       "      <td>0</td>\n",
       "      <td>0</td>\n",
       "      <td>0</td>\n",
       "      <td>1</td>\n",
       "    </tr>\n",
       "    <tr>\n",
       "      <th>4</th>\n",
       "      <td>T0005689468</td>\n",
       "      <td>-0.325670</td>\n",
       "      <td>0.240869</td>\n",
       "      <td>0.084090</td>\n",
       "      <td>1.850991</td>\n",
       "      <td>1.566074</td>\n",
       "      <td>-1.889798</td>\n",
       "      <td>-2.126905</td>\n",
       "      <td>1</td>\n",
       "      <td>0</td>\n",
       "      <td>0</td>\n",
       "      <td>0</td>\n",
       "      <td>0</td>\n",
       "      <td>0</td>\n",
       "      <td>0</td>\n",
       "      <td>1</td>\n",
       "      <td>0</td>\n",
       "      <td>0</td>\n",
       "      <td>0</td>\n",
       "      <td>0</td>\n",
       "      <td>0</td>\n",
       "      <td>0</td>\n",
       "      <td>0</td>\n",
       "      <td>0</td>\n",
       "      <td>0</td>\n",
       "      <td>0</td>\n",
       "      <td>1</td>\n",
       "      <td>1</td>\n",
       "    </tr>\n",
       "  </tbody>\n",
       "</table>\n",
       "</div>"
      ],
      "text/plain": [
       "       Trip_ID  Trip_Distance  Customer_Since_Months  Life_Style_Index  \\\n",
       "0  T0005689459      -1.768505               1.037875         -1.100919   \n",
       "1  T0005689462      -0.320094               1.037875          0.253438   \n",
       "2  T0005689463      -1.680368              -0.578396         -0.451948   \n",
       "3  T0005689466      -1.307791              -0.029264         -1.571190   \n",
       "4  T0005689468      -0.325670               0.240869          0.084090   \n",
       "\n",
       "   Customer_Rating  Cancellation_Last_1Month      Var2      Var3  \\\n",
       "0         0.846098                  1.284153 -1.195084 -1.134465   \n",
       "1        -1.271090                 -0.928235 -0.338789  0.563772   \n",
       "2         1.744324                 -0.928235 -0.887310  0.051987   \n",
       "3         1.771993                 -0.928235 -2.282568 -2.456677   \n",
       "4         1.850991                  1.566074 -1.889798 -2.126905   \n",
       "\n",
       "   Type_of_Cab_B  Type_of_Cab_C  Type_of_Cab_A  Type_of_Cab_F  Type_of_Cab_D  \\\n",
       "0              0              0              1              0              0   \n",
       "1              1              0              0              0              0   \n",
       "2              0              1              0              0              0   \n",
       "3              0              0              0              1              0   \n",
       "4              1              0              0              0              0   \n",
       "\n",
       "   Confidence_Life_Style_Index_B  Confidence_Life_Style_Index_C  \\\n",
       "0                              0                              0   \n",
       "1                              0                              0   \n",
       "2                              0                              0   \n",
       "3                              0                              1   \n",
       "4                              0                              0   \n",
       "\n",
       "   Confidence_Life_Style_Index_A  Destination_Type_A  Destination_Type_B  \\\n",
       "0                              1                   0                   1   \n",
       "1                              1                   1                   0   \n",
       "2                              1                   0                   0   \n",
       "3                              0                   0                   0   \n",
       "4                              1                   0                   0   \n",
       "\n",
       "   Destination_Type_C  Destination_Type_D  Destination_Type_E  \\\n",
       "0                   0                   0                   0   \n",
       "1                   0                   0                   0   \n",
       "2                   0                   1                   0   \n",
       "3                   0                   0                   1   \n",
       "4                   0                   0                   0   \n",
       "\n",
       "   Destination_Type_F  Destination_Type_G  Destination_Type_H  \\\n",
       "0                   0                   0                   0   \n",
       "1                   0                   0                   0   \n",
       "2                   0                   0                   0   \n",
       "3                   0                   0                   0   \n",
       "4                   0                   0                   0   \n",
       "\n",
       "   Destination_Type_I  Destination_Type_J  Destination_Type_K  Gender_Male  \n",
       "0                   0                   0                   0            1  \n",
       "1                   0                   0                   0            0  \n",
       "2                   0                   0                   0            1  \n",
       "3                   0                   0                   0            1  \n",
       "4                   0                   0                   1            1  "
      ]
     },
     "execution_count": 37,
     "metadata": {},
     "output_type": "execute_result"
    }
   ],
   "source": [
    "df_test.head()"
   ]
  },
  {
   "cell_type": "code",
   "execution_count": 38,
   "metadata": {},
   "outputs": [
    {
     "data": {
      "text/plain": [
       "Trip_ID                          0\n",
       "Trip_Distance                    0\n",
       "Customer_Since_Months            0\n",
       "Life_Style_Index                 0\n",
       "Customer_Rating                  0\n",
       "Cancellation_Last_1Month         0\n",
       "Var2                             0\n",
       "Var3                             0\n",
       "Type_of_Cab_B                    0\n",
       "Type_of_Cab_C                    0\n",
       "Type_of_Cab_A                    0\n",
       "Type_of_Cab_F                    0\n",
       "Type_of_Cab_D                    0\n",
       "Confidence_Life_Style_Index_B    0\n",
       "Confidence_Life_Style_Index_C    0\n",
       "Confidence_Life_Style_Index_A    0\n",
       "Destination_Type_A               0\n",
       "Destination_Type_B               0\n",
       "Destination_Type_C               0\n",
       "Destination_Type_D               0\n",
       "Destination_Type_E               0\n",
       "Destination_Type_F               0\n",
       "Destination_Type_G               0\n",
       "Destination_Type_H               0\n",
       "Destination_Type_I               0\n",
       "Destination_Type_J               0\n",
       "Destination_Type_K               0\n",
       "Gender_Male                      0\n",
       "dtype: int64"
      ]
     },
     "execution_count": 38,
     "metadata": {},
     "output_type": "execute_result"
    }
   ],
   "source": [
    "df_test.isnull().sum()"
   ]
  },
  {
   "cell_type": "code",
   "execution_count": 39,
   "metadata": {},
   "outputs": [
    {
     "data": {
      "text/plain": [
       "(87395, 28)"
      ]
     },
     "execution_count": 39,
     "metadata": {},
     "output_type": "execute_result"
    }
   ],
   "source": [
    "df_test.shape"
   ]
  },
  {
   "cell_type": "markdown",
   "metadata": {},
   "source": [
    "### Model Building"
   ]
  },
  {
   "cell_type": "code",
   "execution_count": 41,
   "metadata": {},
   "outputs": [],
   "source": [
    "x = df_train.drop([\"Surge_Pricing_Type\",\"Trip_ID\"],axis=1)\n",
    "y = df_train[\"Surge_Pricing_Type\"]"
   ]
  },
  {
   "cell_type": "code",
   "execution_count": 42,
   "metadata": {},
   "outputs": [],
   "source": [
    "from sklearn.model_selection import train_test_split\n",
    "x_train, x_test, y_train, y_test = train_test_split(x, y, test_size=0.30, random_state=42)"
   ]
  },
  {
   "cell_type": "code",
   "execution_count": 43,
   "metadata": {},
   "outputs": [],
   "source": [
    "from sklearn.model_selection import train_test_split, GridSearchCV, KFold, cross_val_score, RandomizedSearchCV\n",
    "from sklearn.tree import DecisionTreeClassifier\n",
    "from sklearn.ensemble import RandomForestClassifier, AdaBoostClassifier, BaggingClassifier\n",
    "from sklearn.linear_model import LogisticRegression\n",
    "from sklearn.metrics import roc_auc_score, roc_curve, accuracy_score, classification_report, confusion_matrix, f1_score\n",
    "from sklearn.preprocessing import StandardScaler\n",
    "from sklearn.neighbors import KNeighborsClassifier\n",
    "from sklearn.naive_bayes import GaussianNB\n",
    "import lightgbm as lgb\n",
    "from xgboost import XGBClassifier\n",
    "from sklearn.metrics import make_scorer\n",
    "from sklearn.model_selection import RandomizedSearchCV\n",
    "from scipy.stats import randint as sp_randint\n",
    "from scipy.stats import uniform as sp_uniform"
   ]
  },
  {
   "cell_type": "code",
   "execution_count": 36,
   "metadata": {},
   "outputs": [
    {
     "name": "stdout",
     "output_type": "stream",
     "text": [
      "[13:06:02] WARNING: C:/Users/Administrator/workspace/xgboost-win64_release_1.3.0/src/learner.cc:1061: Starting in XGBoost 1.3.0, the default evaluation metric used with the objective 'multi:softprob' was changed from 'merror' to 'mlogloss'. Explicitly set eval_metric if you'd like to restore the old behavior.\n",
      "[13:06:15] WARNING: C:/Users/Administrator/workspace/xgboost-win64_release_1.3.0/src/learner.cc:1061: Starting in XGBoost 1.3.0, the default evaluation metric used with the objective 'multi:softprob' was changed from 'merror' to 'mlogloss'. Explicitly set eval_metric if you'd like to restore the old behavior.\n",
      "[13:06:29] WARNING: C:/Users/Administrator/workspace/xgboost-win64_release_1.3.0/src/learner.cc:1061: Starting in XGBoost 1.3.0, the default evaluation metric used with the objective 'multi:softprob' was changed from 'merror' to 'mlogloss'. Explicitly set eval_metric if you'd like to restore the old behavior.\n",
      "[13:06:54] WARNING: C:/Users/Administrator/workspace/xgboost-win64_release_1.3.0/src/learner.cc:1061: Starting in XGBoost 1.3.0, the default evaluation metric used with the objective 'multi:softprob' was changed from 'merror' to 'mlogloss'. Explicitly set eval_metric if you'd like to restore the old behavior.\n",
      "[13:07:23] WARNING: C:/Users/Administrator/workspace/xgboost-win64_release_1.3.0/src/learner.cc:1061: Starting in XGBoost 1.3.0, the default evaluation metric used with the objective 'multi:softprob' was changed from 'merror' to 'mlogloss'. Explicitly set eval_metric if you'd like to restore the old behavior.\n",
      "[13:07:47] WARNING: C:/Users/Administrator/workspace/xgboost-win64_release_1.3.0/src/learner.cc:1061: Starting in XGBoost 1.3.0, the default evaluation metric used with the objective 'multi:softprob' was changed from 'merror' to 'mlogloss'. Explicitly set eval_metric if you'd like to restore the old behavior.\n"
     ]
    }
   ],
   "source": [
    "### Set seed for same results everytime\n",
    "seed=0\n",
    "\n",
    "lr = LogisticRegression()\n",
    "rf=RandomForestClassifier()\n",
    "weak_learner=DecisionTreeClassifier(max_depth=1,random_state=7)\n",
    "adb = AdaBoostClassifier(base_estimator=weak_learner, n_estimators=10,random_state=7)\n",
    "lgbmc = lgb.LGBMClassifier()\n",
    "bgc=BaggingClassifier()\n",
    "gnb = GaussianNB()\n",
    "knn=KNeighborsClassifier()\n",
    "dt = DecisionTreeClassifier()\n",
    "bgcl_lr = BaggingClassifier(base_estimator=lr, random_state=7)\n",
    "xgb=XGBClassifier(learning_rate=0.09,n_estimators=125,max_depth=4,min_child_weight=4,\n",
    "                  colsample_bytree=0.5,reg_alpha=0.000001)\n",
    "\n",
    "models=[lr,rf,adb,lgbmc,bgc,gnb,knn,dt,bgcl_lr,xgb]\n",
    "tr_acc_score,te_acc_score,sctr,scte,roc_acu_score,f1score,bias_error,variance_error,results=[],[],[],[],[],[],[],[],[]\n",
    "\n",
    "def ens(x_train, x_test, y_train, y_test):\n",
    "    for model in models:\n",
    "            model.fit(x_train, y_train)\n",
    "            kf = KFold(n_splits=5,shuffle=True,random_state=7)\n",
    "            scorer = make_scorer(f1_score, average='weighted')\n",
    "            score_best = cross_val_score(model, x, y, cv=kf, scoring=scorer)\n",
    "            results.append(score_best)\n",
    "            y_train_pred = model.predict(x_train)\n",
    "            train_score = model.score(x_train,y_train)\n",
    "            train_acc_score = accuracy_score(y_train,y_train_pred)\n",
    "            y_test_pred = model.predict(x_test)\n",
    "            test_score = model.score(x_test,y_test)\n",
    "            test_acc_score = accuracy_score(y_test,y_test_pred)\n",
    "            \n",
    "            f1_sc=np.mean(score_best)\n",
    "            bi_err = np.mean(1-score_best)\n",
    "            var_err=np.std(score_best)\n",
    "            \n",
    "            tr_acc_score.append(train_acc_score)\n",
    "            te_acc_score.append(test_acc_score)\n",
    "            sctr.append(train_score)\n",
    "            scte.append(test_score)\n",
    "            f1score.append(f1_sc)\n",
    "            bias_error.append(bi_err)\n",
    "            variance_error.append(var_err)\n",
    "            results.append(score_best)\n",
    "    return tr_acc_score,te_acc_score,sctr,scte,f1score,variance_error\n",
    "ens(x_train,x_test, y_train, y_test)\n",
    "\n",
    "ensemble=pd.DataFrame({'Names':['Logistic Regression','Random Forest','Ada boost','Lgbm','Bagging',\n",
    "                                'Naive-Bayes','KNN','Decistion Tree',\n",
    "                                'bagged LR','XGBoost'],\n",
    "                       'Train_Accuracy_Score':tr_acc_score,\n",
    "                       'Test_Accuracy_Score':te_acc_score,\n",
    "                       'Training':sctr,\n",
    "                       'Testing':scte,\n",
    "                       'F1_score':f1score, \n",
    "                       \"Bias_error\":bias_error,\n",
    "                       'Variance_error':variance_error})"
   ]
  },
  {
   "cell_type": "code",
   "execution_count": 37,
   "metadata": {},
   "outputs": [
    {
     "data": {
      "text/html": [
       "<div>\n",
       "<style scoped>\n",
       "    .dataframe tbody tr th:only-of-type {\n",
       "        vertical-align: middle;\n",
       "    }\n",
       "\n",
       "    .dataframe tbody tr th {\n",
       "        vertical-align: top;\n",
       "    }\n",
       "\n",
       "    .dataframe thead th {\n",
       "        text-align: right;\n",
       "    }\n",
       "</style>\n",
       "<table border=\"1\" class=\"dataframe\">\n",
       "  <thead>\n",
       "    <tr style=\"text-align: right;\">\n",
       "      <th></th>\n",
       "      <th>Names</th>\n",
       "      <th>Train_Accuracy_Score</th>\n",
       "      <th>Test_Accuracy_Score</th>\n",
       "      <th>Training</th>\n",
       "      <th>Testing</th>\n",
       "      <th>F1_score</th>\n",
       "      <th>Bias_error</th>\n",
       "      <th>Variance_error</th>\n",
       "    </tr>\n",
       "  </thead>\n",
       "  <tbody>\n",
       "    <tr>\n",
       "      <th>0</th>\n",
       "      <td>Lgbm</td>\n",
       "      <td>0.714734</td>\n",
       "      <td>0.700777</td>\n",
       "      <td>0.714734</td>\n",
       "      <td>0.700777</td>\n",
       "      <td>0.697529</td>\n",
       "      <td>0.302471</td>\n",
       "      <td>0.001952</td>\n",
       "    </tr>\n",
       "    <tr>\n",
       "      <th>1</th>\n",
       "      <td>XGBoost</td>\n",
       "      <td>0.702494</td>\n",
       "      <td>0.698068</td>\n",
       "      <td>0.702494</td>\n",
       "      <td>0.698068</td>\n",
       "      <td>0.694737</td>\n",
       "      <td>0.305263</td>\n",
       "      <td>0.001069</td>\n",
       "    </tr>\n",
       "    <tr>\n",
       "      <th>2</th>\n",
       "      <td>Logistic Regression</td>\n",
       "      <td>0.691883</td>\n",
       "      <td>0.692726</td>\n",
       "      <td>0.691883</td>\n",
       "      <td>0.692726</td>\n",
       "      <td>0.689239</td>\n",
       "      <td>0.310761</td>\n",
       "      <td>0.002847</td>\n",
       "    </tr>\n",
       "    <tr>\n",
       "      <th>3</th>\n",
       "      <td>bagged LR</td>\n",
       "      <td>0.691818</td>\n",
       "      <td>0.692220</td>\n",
       "      <td>0.691818</td>\n",
       "      <td>0.692220</td>\n",
       "      <td>0.689155</td>\n",
       "      <td>0.310845</td>\n",
       "      <td>0.002933</td>\n",
       "    </tr>\n",
       "    <tr>\n",
       "      <th>4</th>\n",
       "      <td>Random Forest</td>\n",
       "      <td>0.999989</td>\n",
       "      <td>0.690347</td>\n",
       "      <td>0.999989</td>\n",
       "      <td>0.690347</td>\n",
       "      <td>0.687688</td>\n",
       "      <td>0.312312</td>\n",
       "      <td>0.002841</td>\n",
       "    </tr>\n",
       "    <tr>\n",
       "      <th>5</th>\n",
       "      <td>Ada boost</td>\n",
       "      <td>0.663433</td>\n",
       "      <td>0.664169</td>\n",
       "      <td>0.663433</td>\n",
       "      <td>0.664169</td>\n",
       "      <td>0.671345</td>\n",
       "      <td>0.328655</td>\n",
       "      <td>0.004466</td>\n",
       "    </tr>\n",
       "    <tr>\n",
       "      <th>6</th>\n",
       "      <td>Bagging</td>\n",
       "      <td>0.983377</td>\n",
       "      <td>0.659662</td>\n",
       "      <td>0.983377</td>\n",
       "      <td>0.659662</td>\n",
       "      <td>0.658133</td>\n",
       "      <td>0.341867</td>\n",
       "      <td>0.002114</td>\n",
       "    </tr>\n",
       "    <tr>\n",
       "      <th>7</th>\n",
       "      <td>KNN</td>\n",
       "      <td>0.742793</td>\n",
       "      <td>0.637662</td>\n",
       "      <td>0.742793</td>\n",
       "      <td>0.637662</td>\n",
       "      <td>0.639695</td>\n",
       "      <td>0.360305</td>\n",
       "      <td>0.002556</td>\n",
       "    </tr>\n",
       "    <tr>\n",
       "      <th>8</th>\n",
       "      <td>Naive-Bayes</td>\n",
       "      <td>0.624578</td>\n",
       "      <td>0.627332</td>\n",
       "      <td>0.624578</td>\n",
       "      <td>0.627332</td>\n",
       "      <td>0.611985</td>\n",
       "      <td>0.388015</td>\n",
       "      <td>0.002688</td>\n",
       "    </tr>\n",
       "    <tr>\n",
       "      <th>9</th>\n",
       "      <td>Decistion Tree</td>\n",
       "      <td>1.000000</td>\n",
       "      <td>0.572470</td>\n",
       "      <td>1.000000</td>\n",
       "      <td>0.572470</td>\n",
       "      <td>0.575185</td>\n",
       "      <td>0.424815</td>\n",
       "      <td>0.001379</td>\n",
       "    </tr>\n",
       "  </tbody>\n",
       "</table>\n",
       "</div>"
      ],
      "text/plain": [
       "                 Names  Train_Accuracy_Score  Test_Accuracy_Score  Training  \\\n",
       "0                 Lgbm              0.714734             0.700777  0.714734   \n",
       "1              XGBoost              0.702494             0.698068  0.702494   \n",
       "2  Logistic Regression              0.691883             0.692726  0.691883   \n",
       "3            bagged LR              0.691818             0.692220  0.691818   \n",
       "4        Random Forest              0.999989             0.690347  0.999989   \n",
       "5            Ada boost              0.663433             0.664169  0.663433   \n",
       "6              Bagging              0.983377             0.659662  0.983377   \n",
       "7                  KNN              0.742793             0.637662  0.742793   \n",
       "8          Naive-Bayes              0.624578             0.627332  0.624578   \n",
       "9       Decistion Tree              1.000000             0.572470  1.000000   \n",
       "\n",
       "    Testing  F1_score  Bias_error  Variance_error  \n",
       "0  0.700777  0.697529    0.302471        0.001952  \n",
       "1  0.698068  0.694737    0.305263        0.001069  \n",
       "2  0.692726  0.689239    0.310761        0.002847  \n",
       "3  0.692220  0.689155    0.310845        0.002933  \n",
       "4  0.690347  0.687688    0.312312        0.002841  \n",
       "5  0.664169  0.671345    0.328655        0.004466  \n",
       "6  0.659662  0.658133    0.341867        0.002114  \n",
       "7  0.637662  0.639695    0.360305        0.002556  \n",
       "8  0.627332  0.611985    0.388015        0.002688  \n",
       "9  0.572470  0.575185    0.424815        0.001379  "
      ]
     },
     "execution_count": 37,
     "metadata": {},
     "output_type": "execute_result"
    }
   ],
   "source": [
    "ensemble = ensemble.sort_values(by='F1_score', ascending=False).reset_index(drop=True)\n",
    "ensemble"
   ]
  },
  {
   "cell_type": "markdown",
   "metadata": {},
   "source": [
    "### Light GBM"
   ]
  },
  {
   "cell_type": "code",
   "execution_count": 44,
   "metadata": {},
   "outputs": [
    {
     "name": "stdout",
     "output_type": "stream",
     "text": [
      "TRAIN Data--------\n",
      "CM: \n",
      " [[10680  6172  2227]\n",
      " [ 1748 32340  5637]\n",
      " [ 1557  8978 22824]]\n",
      "Accuracy:  0.7144298688193743\n",
      "ROC:  0.8661422499568725\n",
      "Classification Report: \n",
      "               precision    recall  f1-score   support\n",
      "\n",
      "         1.0       0.76      0.56      0.65     19079\n",
      "         2.0       0.68      0.81      0.74     39725\n",
      "         3.0       0.74      0.68      0.71     33359\n",
      "\n",
      "    accuracy                           0.71     92163\n",
      "   macro avg       0.73      0.69      0.70     92163\n",
      "weighted avg       0.72      0.71      0.71     92163\n",
      "\n",
      "\n",
      "TEST Data---------\n",
      "CM: \n",
      " [[ 4523  2610  1002]\n",
      " [  804 13610  2589]\n",
      " [  710  4093  9558]]\n",
      "Accuracy:  0.7010557229296944\n",
      "ROC:  0.8495924599669386\n",
      "Classification Report: \n",
      "               precision    recall  f1-score   support\n",
      "\n",
      "         1.0       0.75      0.56      0.64      8135\n",
      "         2.0       0.67      0.80      0.73     17003\n",
      "         3.0       0.73      0.67      0.69     14361\n",
      "\n",
      "    accuracy                           0.70     39499\n",
      "   macro avg       0.72      0.67      0.69     39499\n",
      "weighted avg       0.71      0.70      0.70     39499\n",
      "\n"
     ]
    }
   ],
   "source": [
    "import lightgbm as lgb\n",
    "lgbmc = lgb.LGBMClassifier(random_state=4)\n",
    "lgbmc.fit(x_train,y_train)\n",
    "\n",
    "y_train_pred = lgbmc.predict(x_train)\n",
    "y_train_prob = lgbmc.predict_proba(x_train)\n",
    "\n",
    "print('TRAIN Data--------')\n",
    "print('CM: \\n',confusion_matrix(y_train,y_train_pred))\n",
    "print('Accuracy: ',accuracy_score(y_train,y_train_pred))\n",
    "print('ROC: ',roc_auc_score(y_train,y_train_prob,multi_class='ovr'))\n",
    "print('Classification Report: \\n',classification_report(y_train,y_train_pred))\n",
    "print()\n",
    "\n",
    "y_test_pred = lgbmc.predict(x_test)\n",
    "y_test_prob = lgbmc.predict_proba(x_test)\n",
    "\n",
    "print('TEST Data---------')\n",
    "print('CM: \\n',confusion_matrix(y_test,y_test_pred))\n",
    "print('Accuracy: ',accuracy_score(y_test,y_test_pred))\n",
    "print('ROC: ',roc_auc_score(y_test,y_test_prob,multi_class='ovr'))\n",
    "print('Classification Report: \\n',classification_report(y_test,y_test_pred))"
   ]
  },
  {
   "cell_type": "code",
   "execution_count": 70,
   "metadata": {},
   "outputs": [
    {
     "data": {
      "image/png": "[encoded data removed]",
      "text/plain": [
       "<Figure size 720x576 with 1 Axes>"
      ]
     },
     "metadata": {
      "needs_background": "light"
     },
     "output_type": "display_data"
    }
   ],
   "source": [
    "important_features = pd.DataFrame({'Features': x_train.columns, \n",
    "                                   'Importance': lgbmc.feature_importances_})\n",
    "\n",
    "# sort the dataframe in the descending order according to the feature importance\n",
    "important_features = important_features.sort_values('Importance', ascending = False)\n",
    "\n",
    "plt.figure(figsize=(10,8))\n",
    "# create a barplot to visualize the features based on their importance\n",
    "sns.barplot(x = 'Importance', y = 'Features', data = important_features)\n",
    "\n",
    "# add plot and axes labels\n",
    "# set text size using 'fontsize'\n",
    "plt.title('Feature Importance', fontsize = 15)\n",
    "plt.xlabel('Importance', fontsize = 15)\n",
    "plt.ylabel('Features', fontsize = 15)\n",
    "\n",
    "# display the plot\n",
    "plt.show()"
   ]
  },
  {
   "cell_type": "code",
   "execution_count": 74,
   "metadata": {},
   "outputs": [
    {
     "data": {
      "text/html": [
       "<div>\n",
       "<style scoped>\n",
       "    .dataframe tbody tr th:only-of-type {\n",
       "        vertical-align: middle;\n",
       "    }\n",
       "\n",
       "    .dataframe tbody tr th {\n",
       "        vertical-align: top;\n",
       "    }\n",
       "\n",
       "    .dataframe thead th {\n",
       "        text-align: right;\n",
       "    }\n",
       "</style>\n",
       "<table border=\"1\" class=\"dataframe\">\n",
       "  <thead>\n",
       "    <tr style=\"text-align: right;\">\n",
       "      <th></th>\n",
       "      <th>Trip_ID</th>\n",
       "      <th>Trip_Distance</th>\n",
       "      <th>Customer_Since_Months</th>\n",
       "      <th>Life_Style_Index</th>\n",
       "      <th>Customer_Rating</th>\n",
       "      <th>Cancellation_Last_1Month</th>\n",
       "      <th>Var2</th>\n",
       "      <th>Var3</th>\n",
       "      <th>Type_of_Cab_B</th>\n",
       "      <th>Type_of_Cab_C</th>\n",
       "      <th>Type_of_Cab_A</th>\n",
       "      <th>Type_of_Cab_F</th>\n",
       "      <th>Type_of_Cab_D</th>\n",
       "      <th>Confidence_Life_Style_Index_B</th>\n",
       "      <th>Confidence_Life_Style_Index_C</th>\n",
       "      <th>Confidence_Life_Style_Index_A</th>\n",
       "      <th>Destination_Type_A</th>\n",
       "      <th>Destination_Type_B</th>\n",
       "      <th>Destination_Type_C</th>\n",
       "      <th>Destination_Type_D</th>\n",
       "      <th>Destination_Type_E</th>\n",
       "      <th>Destination_Type_F</th>\n",
       "      <th>Destination_Type_G</th>\n",
       "      <th>Destination_Type_H</th>\n",
       "      <th>Destination_Type_I</th>\n",
       "      <th>Destination_Type_J</th>\n",
       "      <th>Destination_Type_K</th>\n",
       "      <th>Gender_Male</th>\n",
       "    </tr>\n",
       "  </thead>\n",
       "  <tbody>\n",
       "    <tr>\n",
       "      <th>0</th>\n",
       "      <td>T0005689459</td>\n",
       "      <td>-1.768505</td>\n",
       "      <td>1.037875</td>\n",
       "      <td>-1.100919</td>\n",
       "      <td>0.846098</td>\n",
       "      <td>1.284153</td>\n",
       "      <td>-1.195084</td>\n",
       "      <td>-1.134465</td>\n",
       "      <td>0</td>\n",
       "      <td>0</td>\n",
       "      <td>1</td>\n",
       "      <td>0</td>\n",
       "      <td>0</td>\n",
       "      <td>0</td>\n",
       "      <td>0</td>\n",
       "      <td>1</td>\n",
       "      <td>0</td>\n",
       "      <td>1</td>\n",
       "      <td>0</td>\n",
       "      <td>0</td>\n",
       "      <td>0</td>\n",
       "      <td>0</td>\n",
       "      <td>0</td>\n",
       "      <td>0</td>\n",
       "      <td>0</td>\n",
       "      <td>0</td>\n",
       "      <td>0</td>\n",
       "      <td>1</td>\n",
       "    </tr>\n",
       "    <tr>\n",
       "      <th>1</th>\n",
       "      <td>T0005689462</td>\n",
       "      <td>-0.320094</td>\n",
       "      <td>1.037875</td>\n",
       "      <td>0.253438</td>\n",
       "      <td>-1.271090</td>\n",
       "      <td>-0.928235</td>\n",
       "      <td>-0.338789</td>\n",
       "      <td>0.563772</td>\n",
       "      <td>1</td>\n",
       "      <td>0</td>\n",
       "      <td>0</td>\n",
       "      <td>0</td>\n",
       "      <td>0</td>\n",
       "      <td>0</td>\n",
       "      <td>0</td>\n",
       "      <td>1</td>\n",
       "      <td>1</td>\n",
       "      <td>0</td>\n",
       "      <td>0</td>\n",
       "      <td>0</td>\n",
       "      <td>0</td>\n",
       "      <td>0</td>\n",
       "      <td>0</td>\n",
       "      <td>0</td>\n",
       "      <td>0</td>\n",
       "      <td>0</td>\n",
       "      <td>0</td>\n",
       "      <td>0</td>\n",
       "    </tr>\n",
       "    <tr>\n",
       "      <th>2</th>\n",
       "      <td>T0005689463</td>\n",
       "      <td>-1.680368</td>\n",
       "      <td>-0.578396</td>\n",
       "      <td>-0.451948</td>\n",
       "      <td>1.744324</td>\n",
       "      <td>-0.928235</td>\n",
       "      <td>-0.887310</td>\n",
       "      <td>0.051987</td>\n",
       "      <td>0</td>\n",
       "      <td>1</td>\n",
       "      <td>0</td>\n",
       "      <td>0</td>\n",
       "      <td>0</td>\n",
       "      <td>0</td>\n",
       "      <td>0</td>\n",
       "      <td>1</td>\n",
       "      <td>0</td>\n",
       "      <td>0</td>\n",
       "      <td>0</td>\n",
       "      <td>1</td>\n",
       "      <td>0</td>\n",
       "      <td>0</td>\n",
       "      <td>0</td>\n",
       "      <td>0</td>\n",
       "      <td>0</td>\n",
       "      <td>0</td>\n",
       "      <td>0</td>\n",
       "      <td>1</td>\n",
       "    </tr>\n",
       "    <tr>\n",
       "      <th>3</th>\n",
       "      <td>T0005689466</td>\n",
       "      <td>-1.307791</td>\n",
       "      <td>-0.029264</td>\n",
       "      <td>-1.571190</td>\n",
       "      <td>1.771993</td>\n",
       "      <td>-0.928235</td>\n",
       "      <td>-2.282568</td>\n",
       "      <td>-2.456677</td>\n",
       "      <td>0</td>\n",
       "      <td>0</td>\n",
       "      <td>0</td>\n",
       "      <td>1</td>\n",
       "      <td>0</td>\n",
       "      <td>0</td>\n",
       "      <td>1</td>\n",
       "      <td>0</td>\n",
       "      <td>0</td>\n",
       "      <td>0</td>\n",
       "      <td>0</td>\n",
       "      <td>0</td>\n",
       "      <td>1</td>\n",
       "      <td>0</td>\n",
       "      <td>0</td>\n",
       "      <td>0</td>\n",
       "      <td>0</td>\n",
       "      <td>0</td>\n",
       "      <td>0</td>\n",
       "      <td>1</td>\n",
       "    </tr>\n",
       "    <tr>\n",
       "      <th>4</th>\n",
       "      <td>T0005689468</td>\n",
       "      <td>-0.325670</td>\n",
       "      <td>0.240869</td>\n",
       "      <td>0.084090</td>\n",
       "      <td>1.850991</td>\n",
       "      <td>1.566074</td>\n",
       "      <td>-1.889798</td>\n",
       "      <td>-2.126905</td>\n",
       "      <td>1</td>\n",
       "      <td>0</td>\n",
       "      <td>0</td>\n",
       "      <td>0</td>\n",
       "      <td>0</td>\n",
       "      <td>0</td>\n",
       "      <td>0</td>\n",
       "      <td>1</td>\n",
       "      <td>0</td>\n",
       "      <td>0</td>\n",
       "      <td>0</td>\n",
       "      <td>0</td>\n",
       "      <td>0</td>\n",
       "      <td>0</td>\n",
       "      <td>0</td>\n",
       "      <td>0</td>\n",
       "      <td>0</td>\n",
       "      <td>0</td>\n",
       "      <td>1</td>\n",
       "      <td>1</td>\n",
       "    </tr>\n",
       "  </tbody>\n",
       "</table>\n",
       "</div>"
      ],
      "text/plain": [
       "       Trip_ID  Trip_Distance  Customer_Since_Months  Life_Style_Index  \\\n",
       "0  T0005689459      -1.768505               1.037875         -1.100919   \n",
       "1  T0005689462      -0.320094               1.037875          0.253438   \n",
       "2  T0005689463      -1.680368              -0.578396         -0.451948   \n",
       "3  T0005689466      -1.307791              -0.029264         -1.571190   \n",
       "4  T0005689468      -0.325670               0.240869          0.084090   \n",
       "\n",
       "   Customer_Rating  Cancellation_Last_1Month      Var2      Var3  \\\n",
       "0         0.846098                  1.284153 -1.195084 -1.134465   \n",
       "1        -1.271090                 -0.928235 -0.338789  0.563772   \n",
       "2         1.744324                 -0.928235 -0.887310  0.051987   \n",
       "3         1.771993                 -0.928235 -2.282568 -2.456677   \n",
       "4         1.850991                  1.566074 -1.889798 -2.126905   \n",
       "\n",
       "   Type_of_Cab_B  Type_of_Cab_C  Type_of_Cab_A  Type_of_Cab_F  Type_of_Cab_D  \\\n",
       "0              0              0              1              0              0   \n",
       "1              1              0              0              0              0   \n",
       "2              0              1              0              0              0   \n",
       "3              0              0              0              1              0   \n",
       "4              1              0              0              0              0   \n",
       "\n",
       "   Confidence_Life_Style_Index_B  Confidence_Life_Style_Index_C  \\\n",
       "0                              0                              0   \n",
       "1                              0                              0   \n",
       "2                              0                              0   \n",
       "3                              0                              1   \n",
       "4                              0                              0   \n",
       "\n",
       "   Confidence_Life_Style_Index_A  Destination_Type_A  Destination_Type_B  \\\n",
       "0                              1                   0                   1   \n",
       "1                              1                   1                   0   \n",
       "2                              1                   0                   0   \n",
       "3                              0                   0                   0   \n",
       "4                              1                   0                   0   \n",
       "\n",
       "   Destination_Type_C  Destination_Type_D  Destination_Type_E  \\\n",
       "0                   0                   0                   0   \n",
       "1                   0                   0                   0   \n",
       "2                   0                   1                   0   \n",
       "3                   0                   0                   1   \n",
       "4                   0                   0                   0   \n",
       "\n",
       "   Destination_Type_F  Destination_Type_G  Destination_Type_H  \\\n",
       "0                   0                   0                   0   \n",
       "1                   0                   0                   0   \n",
       "2                   0                   0                   0   \n",
       "3                   0                   0                   0   \n",
       "4                   0                   0                   0   \n",
       "\n",
       "   Destination_Type_I  Destination_Type_J  Destination_Type_K  Gender_Male  \n",
       "0                   0                   0                   0            1  \n",
       "1                   0                   0                   0            0  \n",
       "2                   0                   0                   0            1  \n",
       "3                   0                   0                   0            1  \n",
       "4                   0                   0                   1            1  "
      ]
     },
     "execution_count": 74,
     "metadata": {},
     "output_type": "execute_result"
    }
   ],
   "source": [
    "df_test.head()"
   ]
  },
  {
   "cell_type": "code",
   "execution_count": 75,
   "metadata": {},
   "outputs": [
    {
     "data": {
      "text/plain": [
       "array([1., 2., 2., ..., 1., 2., 2.])"
      ]
     },
     "execution_count": 75,
     "metadata": {},
     "output_type": "execute_result"
    }
   ],
   "source": [
    "test_probs = lgbmc.predict(df_test.drop(\"Trip_ID\",axis=1))\n",
    "test_probs"
   ]
  },
  {
   "cell_type": "code",
   "execution_count": 76,
   "metadata": {},
   "outputs": [
    {
     "data": {
      "text/html": [
       "<div>\n",
       "<style scoped>\n",
       "    .dataframe tbody tr th:only-of-type {\n",
       "        vertical-align: middle;\n",
       "    }\n",
       "\n",
       "    .dataframe tbody tr th {\n",
       "        vertical-align: top;\n",
       "    }\n",
       "\n",
       "    .dataframe thead th {\n",
       "        text-align: right;\n",
       "    }\n",
       "</style>\n",
       "<table border=\"1\" class=\"dataframe\">\n",
       "  <thead>\n",
       "    <tr style=\"text-align: right;\">\n",
       "      <th></th>\n",
       "      <th>Trip_ID</th>\n",
       "      <th>Default</th>\n",
       "    </tr>\n",
       "  </thead>\n",
       "  <tbody>\n",
       "    <tr>\n",
       "      <th>0</th>\n",
       "      <td>T0005689459</td>\n",
       "      <td>1.0</td>\n",
       "    </tr>\n",
       "    <tr>\n",
       "      <th>1</th>\n",
       "      <td>T0005689462</td>\n",
       "      <td>2.0</td>\n",
       "    </tr>\n",
       "    <tr>\n",
       "      <th>2</th>\n",
       "      <td>T0005689463</td>\n",
       "      <td>2.0</td>\n",
       "    </tr>\n",
       "    <tr>\n",
       "      <th>3</th>\n",
       "      <td>T0005689466</td>\n",
       "      <td>2.0</td>\n",
       "    </tr>\n",
       "    <tr>\n",
       "      <th>4</th>\n",
       "      <td>T0005689468</td>\n",
       "      <td>2.0</td>\n",
       "    </tr>\n",
       "  </tbody>\n",
       "</table>\n",
       "</div>"
      ],
      "text/plain": [
       "       Trip_ID  Default\n",
       "0  T0005689459      1.0\n",
       "1  T0005689462      2.0\n",
       "2  T0005689463      2.0\n",
       "3  T0005689466      2.0\n",
       "4  T0005689468      2.0"
      ]
     },
     "execution_count": 76,
     "metadata": {},
     "output_type": "execute_result"
    }
   ],
   "source": [
    "result = pd.DataFrame({\"Trip_ID\": df_test['Trip_ID'], 'Default': test_probs})\n",
    "result.head()"
   ]
  },
  {
   "cell_type": "code",
   "execution_count": 77,
   "metadata": {},
   "outputs": [
    {
     "data": {
      "text/plain": [
       "2.0    44616\n",
       "3.0    29431\n",
       "1.0    13348\n",
       "Name: Default, dtype: int64"
      ]
     },
     "execution_count": 77,
     "metadata": {},
     "output_type": "execute_result"
    }
   ],
   "source": [
    "result[\"Default\"].value_counts()"
   ]
  },
  {
   "cell_type": "code",
   "execution_count": 79,
   "metadata": {},
   "outputs": [
    {
     "data": {
      "image/png": "[encoded data removed]",
      "text/plain": [
       "<Figure size 432x288 with 1 Axes>"
      ]
     },
     "metadata": {
      "needs_background": "light"
     },
     "output_type": "display_data"
    }
   ],
   "source": [
    "sns.countplot(result[\"Default\"])\n",
    "plt.show()"
   ]
  },
  {
   "cell_type": "code",
   "execution_count": 78,
   "metadata": {},
   "outputs": [],
   "source": [
    "#Saving the data to an csv file\n",
    "result.to_csv(r'C:\\Users\\sujit\\SUJITH\\Capstone.csv', index=False)"
   ]
  },
  {
   "cell_type": "code",
   "execution_count": null,
   "metadata": {},
   "outputs": [],
   "source": []
  }
 ],
 "metadata": {
  "kernelspec": {
   "display_name": "Python 3",
   "language": "python",
   "name": "python3"
  },
  "language_info": {
   "codemirror_mode": {
    "name": "ipython",
    "version": 3
   },
   "file_extension": ".py",
   "mimetype": "text/x-python",
   "name": "python",
   "nbconvert_exporter": "python",
   "pygments_lexer": "ipython3",
   "version": "3.8.5"
  }
 },
 "nbformat": 4,
 "nbformat_minor": 4
}
